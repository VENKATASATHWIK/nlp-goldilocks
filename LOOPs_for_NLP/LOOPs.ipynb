{
 "cells": [
  {
   "cell_type": "code",
   "execution_count": 2,
   "id": "b49907c7",
   "metadata": {},
   "outputs": [
    {
     "name": "stdout",
     "output_type": "stream",
     "text": [
      "NLP\n",
      "is\n",
      "Amazing\n"
     ]
    }
   ],
   "source": [
    "## 1. Basic for loop to iterate over words\n",
    "\n",
    "text = \"NLP is Amazing\"\n",
    "for word in text.split():\n",
    "     print(word)"
   ]
  },
  {
   "cell_type": "code",
   "execution_count": 3,
   "id": "78a58c13",
   "metadata": {},
   "outputs": [
    {
     "name": "stdout",
     "output_type": "stream",
     "text": [
      "NLP: 3\n",
      "is: 2\n",
      "Amazing: 7\n"
     ]
    }
   ],
   "source": [
    "# 2. Loop to count word lengths\n",
    "\n",
    "for word in text.split():\n",
    "    print(f'{word}: {len(word)}')\n",
    "    "
   ]
  },
  {
   "cell_type": "code",
   "execution_count": 4,
   "id": "c0d58c2d",
   "metadata": {},
   "outputs": [
    {
     "name": "stdout",
     "output_type": "stream",
     "text": [
      "NLP\n",
      "Amazing\n"
     ]
    }
   ],
   "source": [
    "#3 loop with conditional\n",
    "for word in text.split():\n",
    "    if (len(word)) >2 :\n",
    "        print(word)\n",
    "     "
   ]
  },
  {
   "cell_type": "code",
   "execution_count": 5,
   "id": "24b5c252",
   "metadata": {},
   "outputs": [
    {
     "name": "stdout",
     "output_type": "stream",
     "text": [
      "0:NLP\n",
      "1:is\n",
      "2:Amazing\n"
     ]
    }
   ],
   "source": [
    "#4 using enumerate \n",
    "for index,word in enumerate(text.split()):\n",
    "    print(f'{index}:{word}')\n",
    "    \n",
    "   "
   ]
  },
  {
   "cell_type": "code",
   "execution_count": 6,
   "id": "542f3a41",
   "metadata": {},
   "outputs": [
    {
     "name": "stdout",
     "output_type": "stream",
     "text": [
      "['hello', 'world']\n"
     ]
    }
   ],
   "source": [
    "#5 remove punctuation from list\n",
    "import string as str\n",
    "words = [\"hello\",\"world!\"]\n",
    "cleaned = []\n",
    "for word in words:\n",
    "    cleaned.append(word.strip(str.punctuation))\n",
    "print(cleaned)"
   ]
  },
  {
   "cell_type": "code",
   "execution_count": null,
   "id": "1a65ec73",
   "metadata": {},
   "outputs": [
    {
     "name": "stdout",
     "output_type": "stream",
     "text": [
      "['Nlp']\n",
      "['Nlp', 'for']\n",
      "['Nlp', 'for', 'fun']\n",
      "['for']\n",
      "['for', 'fun']\n",
      "['fun']\n"
     ]
    }
   ],
   "source": [
    "#6 Nested loops for n-gram generation\n",
    "sentence = \"Nlp for fun\"\n",
    "words = sentence.split()\n",
    "for i in range(len(words)):\n",
    "    for j in range(i+1,len(words)+1):\n",
    "        print(words[i:j])"
   ]
  },
  {
   "cell_type": "code",
   "execution_count": 9,
   "id": "d2b0e14f",
   "metadata": {},
   "outputs": [
    {
     "name": "stdout",
     "output_type": "stream",
     "text": [
      "l\n",
      "o\n",
      "o\n",
      "p\n"
     ]
    }
   ],
   "source": [
    "# 7. While loop for character-level iteration\n",
    "text = \"loop\"\n",
    "i=0\n",
    "while i<len(text):\n",
    "    print(text[i])\n",
    "    i=i+1\n",
    "    "
   ]
  },
  {
   "cell_type": "code",
   "execution_count": 10,
   "id": "fdd0aaaf",
   "metadata": {},
   "outputs": [
    {
     "name": "stdout",
     "output_type": "stream",
     "text": [
      "{'NLP': 1}\n",
      "{'NLP': 1, 'is': 1}\n",
      "{'NLP': 1, 'is': 1, 'Amazing': 1}\n"
     ]
    }
   ],
   "source": [
    "#8 loop to build  word frequency \n",
    "\n",
    "text = \"NLP is Amazing\"\n",
    "freq={}\n",
    "for word in text.split():\n",
    "    freq[word] = freq.get(word,0) +1\n",
    "    print(freq) \n",
    "     \n",
    "     "
   ]
  },
  {
   "cell_type": "code",
   "execution_count": 11,
   "id": "c626cea6",
   "metadata": {},
   "outputs": [
    {
     "name": "stdout",
     "output_type": "stream",
     "text": [
      "NLP\n",
      "Amazing\n"
     ]
    }
   ],
   "source": [
    "# 9. Loop to build word frequency\n",
    "for word in text.split():\n",
    "    if word ==\"is\":\n",
    "        continue\n",
    "    print(word)"
   ]
  },
  {
   "cell_type": "code",
   "execution_count": 14,
   "id": "c9b29aa9",
   "metadata": {},
   "outputs": [
    {
     "name": "stdout",
     "output_type": "stream",
     "text": [
      "['Amazing', 'is', 'NLP']\n",
      "Amazing is NLP\n"
     ]
    }
   ],
   "source": [
    "#10 loop to reverse a sentence \n",
    "words  = text.split()\n",
    "reversed_text = []\n",
    "for word in reversed(words):\n",
    "    reversed_text.append(word)\n",
    "\n",
    "print(reversed_text)\n",
    "print(\" \".join(reversed_text))"
   ]
  },
  {
   "cell_type": "code",
   "execution_count": null,
   "id": "3efecf49",
   "metadata": {},
   "outputs": [],
   "source": []
  }
 ],
 "metadata": {
  "kernelspec": {
   "display_name": "venv",
   "language": "python",
   "name": "python3"
  },
  "language_info": {
   "codemirror_mode": {
    "name": "ipython",
    "version": 3
   },
   "file_extension": ".py",
   "mimetype": "text/x-python",
   "name": "python",
   "nbconvert_exporter": "python",
   "pygments_lexer": "ipython3",
   "version": "3.12.0"
  }
 },
 "nbformat": 4,
 "nbformat_minor": 5
}
