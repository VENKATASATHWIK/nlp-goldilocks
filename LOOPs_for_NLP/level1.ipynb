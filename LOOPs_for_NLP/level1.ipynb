{
 "cells": [
  {
   "cell_type": "code",
   "execution_count": 2,
   "id": "ff094ebc",
   "metadata": {},
   "outputs": [
    {
     "name": "stdout",
     "output_type": "stream",
     "text": [
      "I\n",
      "am\n",
      "about\n"
     ]
    }
   ],
   "source": [
    "# Task 1: Loop through a sentence and print only the words that start with a vowel.\n",
    "\n",
    "sentence = \"I am passionate about NLP\"\n",
    "\n",
    "words  =sentence.split()\n",
    "vowels = {'a','e','i','o','u',\"A\",\"E\",\"I\",\"O\",\"U\"}\n",
    "for word in words:\n",
    "    if word[0] in vowels:\n",
    "        print(word)\n",
    "        "
   ]
  },
  {
   "cell_type": "code",
   "execution_count": null,
   "id": "03c553a9",
   "metadata": {},
   "outputs": [
    {
     "name": "stdout",
     "output_type": "stream",
     "text": [
      "found vowel:a\n",
      "found vowel:o\n",
      "found vowel:u\n",
      "total vowels in about are 3\n"
     ]
    }
   ],
   "source": [
    "#basic example \n",
    "word = \"about\"\n",
    "vowels = \"aeiou\"\n",
    "vowel_count  =0\n",
    "for char in word:\n",
    "    if char.lower() in vowels:\n",
    "        print(f'found vowel:{char}')\n",
    "        vowel_count+=1\n",
    "print(f\"total vowels in {word} are {vowel_count}\")"
   ]
  },
  {
   "cell_type": "code",
   "execution_count": 7,
   "id": "cc9833e3",
   "metadata": {},
   "outputs": [
    {
     "name": "stdout",
     "output_type": "stream",
     "text": [
      "vowel counts in the character\n",
      "a:4\n",
      "e:1\n",
      "i:2\n",
      "o:2\n",
      "u:1\n"
     ]
    }
   ],
   "source": [
    "# Task 2: Use a loop to count how many times each vowel appears in a sentence.\n",
    "sentence = \"I am passionate about NLP\"\n",
    "vowels = \"aeiou\"\n",
    "vowel_count = {\"a\":0,\"e\":0,\"i\":0,\"o\":0,\"u\":0}\n",
    "\n",
    "for character in sentence:\n",
    "    char = character.lower()\n",
    "    \n",
    "    if char in vowels:\n",
    "        vowel_count[char] +=1\n",
    "        \n",
    "        \n",
    "print(\"vowel counts in the character\")\n",
    "for vowel,count in vowel_count.items():\n",
    "    print(f'{vowel}:{count}')\n",
    "        "
   ]
  },
  {
   "cell_type": "code",
   "execution_count": 3,
   "id": "02c74d0e",
   "metadata": {},
   "outputs": [
    {
     "name": "stdout",
     "output_type": "stream",
     "text": [
      "Method 1:\n",
      "H\n",
      "e\n",
      "l\n",
      "l\n",
      "o\n",
      ",\n",
      " \n",
      "w\n",
      "o\n",
      "r\n",
      "l\n",
      "d\n",
      "!\n"
     ]
    }
   ],
   "source": [
    "sentence = \"Hello, world!\"\n",
    "\n",
    "# Method 1: Simple for loop\n",
    "print(\"Method 1:\")\n",
    "for character in sentence:\n",
    "    print(character)\n"
   ]
  },
  {
   "cell_type": "code",
   "execution_count": 5,
   "id": "45dcf0e4",
   "metadata": {},
   "outputs": [
    {
     "name": "stdout",
     "output_type": "stream",
     "text": [
      "['i', 'am', 'passionate', 'about', 'nlp']\n"
     ]
    }
   ],
   "source": [
    "words  =sentence.lower().split()\n",
    "print(words)"
   ]
  },
  {
   "cell_type": "code",
   "execution_count": null,
   "id": "3eaadfd0",
   "metadata": {},
   "outputs": [],
   "source": []
  },
  {
   "cell_type": "code",
   "execution_count": null,
   "id": "8cd2b2d6",
   "metadata": {},
   "outputs": [],
   "source": []
  },
  {
   "cell_type": "code",
   "execution_count": null,
   "id": "4b607b5e",
   "metadata": {},
   "outputs": [],
   "source": []
  },
  {
   "cell_type": "code",
   "execution_count": null,
   "id": "8cd21e68",
   "metadata": {},
   "outputs": [],
   "source": []
  }
 ],
 "metadata": {
  "kernelspec": {
   "display_name": "venv",
   "language": "python",
   "name": "python3"
  },
  "language_info": {
   "codemirror_mode": {
    "name": "ipython",
    "version": 3
   },
   "file_extension": ".py",
   "mimetype": "text/x-python",
   "name": "python",
   "nbconvert_exporter": "python",
   "pygments_lexer": "ipython3",
   "version": "3.12.0"
  }
 },
 "nbformat": 4,
 "nbformat_minor": 5
}
