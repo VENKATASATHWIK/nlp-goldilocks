{
 "cells": [
  {
   "cell_type": "code",
   "execution_count": 1,
   "id": "2c814990",
   "metadata": {},
   "outputs": [],
   "source": [
    "import pandas as pd \n",
    "import re \n"
   ]
  },
  {
   "cell_type": "code",
   "execution_count": null,
   "id": "3d5738d6",
   "metadata": {},
   "outputs": [
    {
     "name": "stdout",
     "output_type": "stream",
     "text": [
      "   id                          text\n",
      "0   1            I love NLP and AI!\n",
      "1   2            Win FREE prizes!!!\n",
      "2   3  Contact us: info@example.com\n",
      "3   4               Python > Java??\n",
      "4   5                          None\n"
     ]
    }
   ],
   "source": [
    "# Mock dataset (small but realistic)\n",
    "data = {\"id\": [1,2,3,4,5],\n",
    "        \"text\": [ \"I love NLP and AI!\", \n",
    "        \"Win FREE prizes!!!\", \n",
    "        \"Contact us: info@example.com\", \n",
    "        \"Python > Java??\", \n",
    "        None]}\n",
    "\n",
    "df = pd.DataFrame(data)\n",
    "\n",
    "print(df.head())\n",
    "\n",
    "\n"
   ]
  },
  {
   "cell_type": "code",
   "execution_count": 4,
   "id": "54ab0847",
   "metadata": {},
   "outputs": [
    {
     "name": "stdout",
     "output_type": "stream",
     "text": [
      "0              I love NLP and AI!\n",
      "1              Win FREE prizes!!!\n",
      "2    Contact us: info@example.com\n",
      "3                 Python > Java??\n",
      "4                            None\n",
      "Name: text, dtype: object\n"
     ]
    }
   ],
   "source": [
    "#2 \n",
    "print(df[\"text\"])\n"
   ]
  },
  {
   "cell_type": "code",
   "execution_count": null,
   "id": "887719a2",
   "metadata": {},
   "outputs": [
    {
     "name": "stdout",
     "output_type": "stream",
     "text": [
      "   id                          text\n",
      "0   1            I love NLP and AI!\n",
      "1   2            Win FREE prizes!!!\n",
      "2   3  Contact us: info@example.com\n",
      "3   4               Python > Java??\n",
      "4   5                       Unknown\n"
     ]
    }
   ],
   "source": [
    "#3\n",
    "df[\"text\"] = df[\"text\"].fillna(\"Unknown\")\n",
    "print(df)"
   ]
  },
  {
   "cell_type": "code",
   "execution_count": null,
   "id": "763f6c0c",
   "metadata": {},
   "outputs": [
    {
     "name": "stdout",
     "output_type": "stream",
     "text": [
      "   id                text\n",
      "0   1  I love NLP and AI!\n"
     ]
    }
   ],
   "source": [
    "# Example 4: Filter rows containing 'NLP'\n",
    "nlp_rows = df[df[\"text\"].str.contains(\"NLP\",na=False)]\n",
    "print(nlp_rows)"
   ]
  },
  {
   "cell_type": "code",
   "execution_count": 7,
   "id": "decce559",
   "metadata": {},
   "outputs": [
    {
     "name": "stdout",
     "output_type": "stream",
     "text": [
      "   id                text\n",
      "0   1  I love NLP and AI!\n"
     ]
    }
   ],
   "source": [
    "#5 reset index after filtering\n",
    "nlp_rows = nlp_rows.reset_index(drop=True)\n",
    "print(nlp_rows)\n",
    "\n",
    "\n"
   ]
  },
  {
   "cell_type": "code",
   "execution_count": 8,
   "id": "f71184ba",
   "metadata": {},
   "outputs": [
    {
     "name": "stdout",
     "output_type": "stream",
     "text": [
      "   id                    text_lower\n",
      "0   1            i love nlp and ai!\n",
      "1   2            win free prizes!!!\n",
      "2   3  contact us: info@example.com\n",
      "3   4               python > java??\n",
      "4   5                       unknown\n"
     ]
    }
   ],
   "source": [
    "#6 lowercase all text\n",
    "df[\"text_lower\"] = df[\"text\"].str.lower()\n",
    "print(df[[\"id\",\"text_lower\"]])\n"
   ]
  },
  {
   "cell_type": "code",
   "execution_count": 9,
   "id": "9f215e55",
   "metadata": {},
   "outputs": [
    {
     "data": {
      "text/plain": [
       "0            i love nlp and ai\n",
       "1              win free prizes\n",
       "2    contact us infoexamplecom\n",
       "3                 python  java\n",
       "4                      unknown\n",
       "Name: text_clean, dtype: object"
      ]
     },
     "execution_count": 9,
     "metadata": {},
     "output_type": "execute_result"
    }
   ],
   "source": [
    "# Example 7: Remove punctuation (regex)\n",
    "df[\"text_clean\"]=df[\"text_lower\"].str.replace(r'[^\\w\\s]',\"\",regex=True)\n",
    "df[\"text_clean\"]"
   ]
  },
  {
   "cell_type": "code",
   "execution_count": 10,
   "id": "c50fddbb",
   "metadata": {},
   "outputs": [
    {
     "name": "stdout",
     "output_type": "stream",
     "text": [
      "   id            emails\n",
      "0   1               NaN\n",
      "1   2               NaN\n",
      "2   3  info@example.com\n",
      "3   4               NaN\n",
      "4   5               NaN\n"
     ]
    }
   ],
   "source": [
    "#exract email address\n",
    "df[\"emails\"] = df[\"text\"].str.extract(r'([\\w\\.-]+@[\\w\\.-]+)')\n",
    "\n",
    "print(df[[\"id\",\"emails\"]])"
   ]
  },
  {
   "cell_type": "code",
   "execution_count": 11,
   "id": "25fe9fb5",
   "metadata": {},
   "outputs": [
    {
     "name": "stdout",
     "output_type": "stream",
     "text": [
      "0    NaN\n",
      "1    NaN\n",
      "2    NaN\n",
      "3    NaN\n",
      "4    NaN\n",
      "Name: numbers, dtype: object\n"
     ]
    }
   ],
   "source": [
    "df[\"numbers\"] = df[\"text\"].str.extract(r'(\\d+)')\n",
    "print(df[\"numbers\"])"
   ]
  },
  {
   "cell_type": "code",
   "execution_count": 12,
   "id": "90d80935",
   "metadata": {},
   "outputs": [
    {
     "data": {
      "text/html": [
       "<div>\n",
       "<style scoped>\n",
       "    .dataframe tbody tr th:only-of-type {\n",
       "        vertical-align: middle;\n",
       "    }\n",
       "\n",
       "    .dataframe tbody tr th {\n",
       "        vertical-align: top;\n",
       "    }\n",
       "\n",
       "    .dataframe thead th {\n",
       "        text-align: right;\n",
       "    }\n",
       "</style>\n",
       "<table border=\"1\" class=\"dataframe\">\n",
       "  <thead>\n",
       "    <tr style=\"text-align: right;\">\n",
       "      <th></th>\n",
       "      <th>id</th>\n",
       "      <th>capital_words</th>\n",
       "    </tr>\n",
       "  </thead>\n",
       "  <tbody>\n",
       "    <tr>\n",
       "      <th>0</th>\n",
       "      <td>1</td>\n",
       "      <td>[I]</td>\n",
       "    </tr>\n",
       "    <tr>\n",
       "      <th>1</th>\n",
       "      <td>2</td>\n",
       "      <td>[Win]</td>\n",
       "    </tr>\n",
       "    <tr>\n",
       "      <th>2</th>\n",
       "      <td>3</td>\n",
       "      <td>[Contact]</td>\n",
       "    </tr>\n",
       "    <tr>\n",
       "      <th>3</th>\n",
       "      <td>4</td>\n",
       "      <td>[Python, Java]</td>\n",
       "    </tr>\n",
       "    <tr>\n",
       "      <th>4</th>\n",
       "      <td>5</td>\n",
       "      <td>[Unknown]</td>\n",
       "    </tr>\n",
       "  </tbody>\n",
       "</table>\n",
       "</div>"
      ],
      "text/plain": [
       "   id   capital_words\n",
       "0   1             [I]\n",
       "1   2           [Win]\n",
       "2   3       [Contact]\n",
       "3   4  [Python, Java]\n",
       "4   5       [Unknown]"
      ]
     },
     "execution_count": 12,
     "metadata": {},
     "output_type": "execute_result"
    }
   ],
   "source": [
    "# 10\n",
    "df[\"capital_words\"] = df[\"text\"].apply(lambda x: re.findall(r'\\b[A-Z][a-z]*\\b', x))\n",
    "\n",
    "df[[\"id\",\"capital_words\"]]"
   ]
  },
  {
   "cell_type": "markdown",
   "id": "845efd48",
   "metadata": {},
   "source": [
    "### Conditional Filtering + functions"
   ]
  },
  {
   "cell_type": "code",
   "execution_count": 6,
   "id": "0901d64d",
   "metadata": {},
   "outputs": [
    {
     "name": "stdout",
     "output_type": "stream",
     "text": [
      "   id                       text\n",
      "0   1       Win FREE prizes now!\n",
      "1   2   Python is great for NLP.\n",
      "2   3         What is your name?\n",
      "3   4                     123456\n",
      "4   5  Contact: admin@domain.com\n",
      "5   6                           \n"
     ]
    }
   ],
   "source": [
    "import pandas as pd \n",
    "import re\n",
    "data_2 = {\n",
    "    \"id\": [1, 2, 3, 4, 5, 6],\n",
    "    \"text\": [\n",
    "        \"Win FREE prizes now!\", \n",
    "        \"Python is great for NLP.\", \n",
    "        \"What is your name?\", \n",
    "        \"123456\", \n",
    "        \"Contact: admin@domain.com\", \n",
    "        \"\"\n",
    "    ]\n",
    "}\n",
    "df_2 = pd.DataFrame(data_2)\n",
    "print(df_2)"
   ]
  },
  {
   "cell_type": "code",
   "execution_count": 7,
   "id": "16ff32aa",
   "metadata": {},
   "outputs": [],
   "source": [
    "df_2[\"text\"] = df_2[\"text\"].fillna(\"Unknown\")\n"
   ]
  },
  {
   "cell_type": "code",
   "execution_count": 8,
   "id": "96ebe61e",
   "metadata": {},
   "outputs": [
    {
     "name": "stdout",
     "output_type": "stream",
     "text": [
      "   id                       text\n",
      "0   1       Win FREE prizes now!\n",
      "1   2   Python is great for NLP.\n",
      "2   3         What is your name?\n",
      "4   5  Contact: admin@domain.com\n"
     ]
    }
   ],
   "source": [
    "# Example 11: Filter text length > 10\n",
    "long_texts = df_2[df_2[\"text\"].str.len()>10]\n",
    "print(long_texts)"
   ]
  },
  {
   "cell_type": "code",
   "execution_count": 9,
   "id": "0941144b",
   "metadata": {},
   "outputs": [
    {
     "name": "stdout",
     "output_type": "stream",
     "text": [
      "   id                       text  is_spam\n",
      "0   1       Win FREE prizes now!     True\n",
      "1   2   Python is great for NLP.    False\n",
      "2   3         What is your name?    False\n",
      "3   4                     123456    False\n",
      "4   5  Contact: admin@domain.com    False\n",
      "5   6                               False\n"
     ]
    },
    {
     "name": "stderr",
     "output_type": "stream",
     "text": [
      "C:\\Users\\Dell\\AppData\\Local\\Temp\\ipykernel_5308\\3356645713.py:3: UserWarning: This pattern is interpreted as a regular expression, and has match groups. To actually get the groups, use str.extract.\n",
      "  df_2[\"is_spam\"] = df_2[\"text\"].str.contains(r'(free|win)',flags=re.IGNORECASE,na=False)\n"
     ]
    }
   ],
   "source": [
    "# Example 12: Flag SPAM if contains 'free' or 'win'\n",
    "\n",
    "df_2[\"is_spam\"] = df_2[\"text\"].str.contains(r'(free|win)',flags=re.IGNORECASE,na=False)\n",
    "print(df_2[[\"id\",\"text\",\"is_spam\"]])\n"
   ]
  },
  {
   "cell_type": "code",
   "execution_count": 10,
   "id": "087bd33f",
   "metadata": {},
   "outputs": [
    {
     "name": "stdout",
     "output_type": "stream",
     "text": [
      "   id                       text  is_spam\n",
      "0   1       Win FREE prizes now!     True\n",
      "1   2   Python is great for NLP.    False\n",
      "2   3         What is your name?    False\n",
      "4   5  Contact: admin@domain.com    False\n"
     ]
    }
   ],
   "source": [
    "# Example 13: Keep only rows with alphabets\n",
    "# ---------------------------\n",
    "df_2_alpha = df_2[df_2['text'].str.contains(r'[A-Za-z]', na=False)]\n",
    "print(df_2_alpha)"
   ]
  },
  {
   "cell_type": "code",
   "execution_count": 11,
   "id": "ca36fdfe",
   "metadata": {},
   "outputs": [
    {
     "name": "stdout",
     "output_type": "stream",
     "text": [
      "   id    text  is_spam\n",
      "3   4  123456    False\n"
     ]
    }
   ],
   "source": [
    "#14\n",
    "df_2_num= df_2[df_2['text'].str.match(r'\\d+$')]\n",
    "print(df_2_num)\n"
   ]
  },
  {
   "cell_type": "code",
   "execution_count": 12,
   "id": "ede47e7b",
   "metadata": {},
   "outputs": [
    {
     "data": {
      "text/html": [
       "<div>\n",
       "<style scoped>\n",
       "    .dataframe tbody tr th:only-of-type {\n",
       "        vertical-align: middle;\n",
       "    }\n",
       "\n",
       "    .dataframe tbody tr th {\n",
       "        vertical-align: top;\n",
       "    }\n",
       "\n",
       "    .dataframe thead th {\n",
       "        text-align: right;\n",
       "    }\n",
       "</style>\n",
       "<table border=\"1\" class=\"dataframe\">\n",
       "  <thead>\n",
       "    <tr style=\"text-align: right;\">\n",
       "      <th></th>\n",
       "      <th>id</th>\n",
       "      <th>text</th>\n",
       "      <th>is_spam</th>\n",
       "    </tr>\n",
       "  </thead>\n",
       "  <tbody>\n",
       "    <tr>\n",
       "      <th>0</th>\n",
       "      <td>1</td>\n",
       "      <td>Win FREE prizes now!</td>\n",
       "      <td>True</td>\n",
       "    </tr>\n",
       "    <tr>\n",
       "      <th>1</th>\n",
       "      <td>2</td>\n",
       "      <td>Python is great for NLP.</td>\n",
       "      <td>False</td>\n",
       "    </tr>\n",
       "    <tr>\n",
       "      <th>2</th>\n",
       "      <td>3</td>\n",
       "      <td>What is your name?</td>\n",
       "      <td>False</td>\n",
       "    </tr>\n",
       "    <tr>\n",
       "      <th>3</th>\n",
       "      <td>4</td>\n",
       "      <td>123456</td>\n",
       "      <td>False</td>\n",
       "    </tr>\n",
       "    <tr>\n",
       "      <th>4</th>\n",
       "      <td>5</td>\n",
       "      <td>Contact: admin@domain.com</td>\n",
       "      <td>False</td>\n",
       "    </tr>\n",
       "  </tbody>\n",
       "</table>\n",
       "</div>"
      ],
      "text/plain": [
       "   id                       text  is_spam\n",
       "0   1       Win FREE prizes now!     True\n",
       "1   2   Python is great for NLP.    False\n",
       "2   3         What is your name?    False\n",
       "3   4                     123456    False\n",
       "4   5  Contact: admin@domain.com    False"
      ]
     },
     "execution_count": 12,
     "metadata": {},
     "output_type": "execute_result"
    }
   ],
   "source": [
    "#15 drop rows wit empty text \n",
    "df_2 = df_2[df_2[\"text\"].str.strip()!=\"\"]\n",
    "df_2"
   ]
  },
  {
   "cell_type": "code",
   "execution_count": 15,
   "id": "3330a912",
   "metadata": {},
   "outputs": [
    {
     "name": "stdout",
     "output_type": "stream",
     "text": [
      "   id               clean_text\n",
      "0   1      Win FREE prizes now\n",
      "1   2  Python is great for NLP\n",
      "2   3        What is your name\n",
      "3   4                   123456\n",
      "4   5   Contact admindomaincom\n"
     ]
    }
   ],
   "source": [
    "#16 function to clean special symbols \n",
    "def clean_symbols(text):\n",
    "    return re.sub(r'[^A-Za-z0-9\\s]','',text)\n",
    "\n",
    "df_2[\"clean_text\"] = df_2[\"text\"].apply(clean_symbols)\n",
    "print(df_2[[\"id\",\"clean_text\"]])\n"
   ]
  },
  {
   "cell_type": "code",
   "execution_count": 17,
   "id": "957992e0",
   "metadata": {},
   "outputs": [
    {
     "name": "stdout",
     "output_type": "stream",
     "text": [
      "   id  word_count\n",
      "0   1           4\n",
      "1   2           5\n",
      "2   3           4\n",
      "3   4           1\n",
      "4   5           2\n"
     ]
    }
   ],
   "source": [
    "#17 func to count words \n",
    "def word_count(text):\n",
    "    return len(text.split())\n",
    "\n",
    "df_2[\"word_count\"]  = df_2[\"clean_text\"].apply(word_count)\n",
    "print(df_2[[\"id\",\"word_count\"]])"
   ]
  },
  {
   "cell_type": "code",
   "execution_count": 19,
   "id": "aa551a8e",
   "metadata": {},
   "outputs": [
    {
     "name": "stdout",
     "output_type": "stream",
     "text": [
      "   id                       text  is_qn\n",
      "0   1       Win FREE prizes now!  False\n",
      "1   2   Python is great for NLP.  False\n",
      "2   3         What is your name?   True\n",
      "3   4                     123456  False\n",
      "4   5  Contact: admin@domain.com  False\n"
     ]
    }
   ],
   "source": [
    "# Example 18: Function to detect questions\n",
    "def is_question(text):\n",
    "    return text.strip().endswith(\"?\")\n",
    "df_2[\"is_qn\"] = df_2[\"text\"].apply(is_question)\n",
    "print(df_2[[\"id\",\"text\",\"is_qn\"]])"
   ]
  },
  {
   "cell_type": "code",
   "execution_count": 21,
   "id": "cfca03a7",
   "metadata": {},
   "outputs": [
    {
     "name": "stdout",
     "output_type": "stream",
     "text": [
      "   id                       text named_entities\n",
      "0   1       Win FREE prizes now!          [Win]\n",
      "1   2   Python is great for NLP.       [Python]\n",
      "2   3         What is your name?         [What]\n",
      "3   4                     123456             []\n",
      "4   5  Contact: admin@domain.com      [Contact]\n"
     ]
    }
   ],
   "source": [
    "# Example 19: Function to detect Named Entities (simple capital words)\n",
    "\n",
    "def extract_capital_words(text):\n",
    "    return re.findall(r'\\b[A-Z][a-z]*\\b',text)\n",
    "\n",
    "df_2[\"named_entities\"] = df_2[\"text\"].apply(extract_capital_words)\n",
    "\n",
    "print(df_2[[\"id\",\"text\",\"named_entities\"]])"
   ]
  },
  {
   "cell_type": "code",
   "execution_count": 23,
   "id": "6b04cfc1",
   "metadata": {},
   "outputs": [
    {
     "name": "stdout",
     "output_type": "stream",
     "text": [
      "   id                       text              expanded_text\n",
      "0   1       Win FREE prizes now!       Win FREE prizes now!\n",
      "1   2   Python is great for NLP.   Python is great for NLP.\n",
      "2   3         What is your name?         What is your name?\n",
      "3   4                     123456                     123456\n",
      "4   5  Contact: admin@domain.com  Contact: admin@domain.com\n"
     ]
    }
   ],
   "source": [
    "# Example 20: Function to expand contractions (mock example)\n",
    "contractions = {\"don't\": \"do not\", \"can't\": \"cannot\", \"won't\": \"will not\"}\n",
    "\n",
    "def expand_contractions(text):\n",
    "    for k,v in contractions.items():\n",
    "        text = re.sub(k,v,text,flags=re.IGNORECASE)\n",
    "    return text\n",
    "\n",
    "df_2[\"expanded_text\"]  = df_2[\"text\"].apply(expand_contractions)\n",
    "\n",
    "print(df_2[[\"id\",\"text\",\"expanded_text\"]])\n"
   ]
  },
  {
   "cell_type": "code",
   "execution_count": null,
   "id": "12d73856",
   "metadata": {},
   "outputs": [],
   "source": []
  }
 ],
 "metadata": {
  "kernelspec": {
   "display_name": "venv",
   "language": "python",
   "name": "python3"
  },
  "language_info": {
   "codemirror_mode": {
    "name": "ipython",
    "version": 3
   },
   "file_extension": ".py",
   "mimetype": "text/x-python",
   "name": "python",
   "nbconvert_exporter": "python",
   "pygments_lexer": "ipython3",
   "version": "3.12.0"
  }
 },
 "nbformat": 4,
 "nbformat_minor": 5
}
