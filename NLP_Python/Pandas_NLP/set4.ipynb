{
 "cells": [
  {
   "cell_type": "markdown",
   "id": "a306ab8f",
   "metadata": {},
   "source": [
    "###  Real NLP Cleaning Pipeline (Examples 41–50 combined)"
   ]
  },
  {
   "cell_type": "code",
   "execution_count": 14,
   "id": "8ef008cc",
   "metadata": {},
   "outputs": [],
   "source": [
    "import pandas as pd \n",
    "import re \n"
   ]
  },
  {
   "cell_type": "code",
   "execution_count": 15,
   "id": "bed6da35",
   "metadata": {},
   "outputs": [],
   "source": [
    "# Step 1: Mock dataset (like scraped/social media data)\n",
    "# ---------------------------\n",
    "data = {\n",
    "    \"id\": [1, 2, 3, 4, 5],\n",
    "    \"text\": [\n",
    "        \"WIN a FREE iPhone!!! Visit https://promo.com @user1\",\n",
    "        \"Python 3.9 released on 2020-10-05. Amazing update!\",\n",
    "        \"Email leaks: admin@company.com shared details.\",\n",
    "        \"Weather in New York!!! Flood alerts.\",\n",
    "        \"Sports Update: WorldCup2024 starts soon!!!\"\n",
    "    ],\n",
    "    \"category\": [\"promo\", \"tech\", \"news\", \"news\", \"sports\"]\n",
    "}\n"
   ]
  },
  {
   "cell_type": "code",
   "execution_count": 16,
   "id": "98f17022",
   "metadata": {},
   "outputs": [
    {
     "data": {
      "text/html": [
       "<div>\n",
       "<style scoped>\n",
       "    .dataframe tbody tr th:only-of-type {\n",
       "        vertical-align: middle;\n",
       "    }\n",
       "\n",
       "    .dataframe tbody tr th {\n",
       "        vertical-align: top;\n",
       "    }\n",
       "\n",
       "    .dataframe thead th {\n",
       "        text-align: right;\n",
       "    }\n",
       "</style>\n",
       "<table border=\"1\" class=\"dataframe\">\n",
       "  <thead>\n",
       "    <tr style=\"text-align: right;\">\n",
       "      <th></th>\n",
       "      <th>id</th>\n",
       "      <th>text</th>\n",
       "      <th>category</th>\n",
       "    </tr>\n",
       "  </thead>\n",
       "  <tbody>\n",
       "    <tr>\n",
       "      <th>0</th>\n",
       "      <td>1</td>\n",
       "      <td>WIN a FREE iPhone!!! Visit https://promo.com @...</td>\n",
       "      <td>promo</td>\n",
       "    </tr>\n",
       "    <tr>\n",
       "      <th>1</th>\n",
       "      <td>2</td>\n",
       "      <td>Python 3.9 released on 2020-10-05. Amazing upd...</td>\n",
       "      <td>tech</td>\n",
       "    </tr>\n",
       "    <tr>\n",
       "      <th>2</th>\n",
       "      <td>3</td>\n",
       "      <td>Email leaks: admin@company.com shared details.</td>\n",
       "      <td>news</td>\n",
       "    </tr>\n",
       "    <tr>\n",
       "      <th>3</th>\n",
       "      <td>4</td>\n",
       "      <td>Weather in New York!!! Flood alerts.</td>\n",
       "      <td>news</td>\n",
       "    </tr>\n",
       "    <tr>\n",
       "      <th>4</th>\n",
       "      <td>5</td>\n",
       "      <td>Sports Update: WorldCup2024 starts soon!!!</td>\n",
       "      <td>sports</td>\n",
       "    </tr>\n",
       "  </tbody>\n",
       "</table>\n",
       "</div>"
      ],
      "text/plain": [
       "   id                                               text category\n",
       "0   1  WIN a FREE iPhone!!! Visit https://promo.com @...    promo\n",
       "1   2  Python 3.9 released on 2020-10-05. Amazing upd...     tech\n",
       "2   3     Email leaks: admin@company.com shared details.     news\n",
       "3   4               Weather in New York!!! Flood alerts.     news\n",
       "4   5         Sports Update: WorldCup2024 starts soon!!!   sports"
      ]
     },
     "execution_count": 16,
     "metadata": {},
     "output_type": "execute_result"
    }
   ],
   "source": [
    "df  = pd.DataFrame(data)\n",
    "df "
   ]
  },
  {
   "cell_type": "code",
   "execution_count": 17,
   "id": "6452fd99",
   "metadata": {},
   "outputs": [
    {
     "name": "stdout",
     "output_type": "stream",
     "text": [
      "   id                                               text  \\\n",
      "0   1  WIN a FREE iPhone!!! Visit https://promo.com @...   \n",
      "1   2  Python 3.9 released on 2020-10-05. Amazing upd...   \n",
      "2   3     Email leaks: admin@company.com shared details.   \n",
      "3   4               Weather in New York!!! Flood alerts.   \n",
      "4   5         Sports Update: WorldCup2024 starts soon!!!   \n",
      "\n",
      "                                          clean_text  \n",
      "0  win a free iphone!!! visit https://promo.com @...  \n",
      "1  python 3.9 released on 2020-10-05. amazing upd...  \n",
      "2     email leaks: admin@company.com shared details.  \n",
      "3               weather in new york!!! flood alerts.  \n",
      "4         sports update: worldcup2024 starts soon!!!  \n"
     ]
    }
   ],
   "source": [
    "# Step 2 (Example 41-42): Clean basic text (lowercase, remove extra spaces)\n",
    "\n",
    "df[\"clean_text\"] = (\n",
    "    df[\"text\"].str.lower().str.replace(r\"\\s+\",\" \",regex=True).str.strip()\n",
    "    \n",
    ")\n",
    "print(df[[\"id\",\"text\",\"clean_text\"]])\n"
   ]
  },
  {
   "cell_type": "code",
   "execution_count": 18,
   "id": "f27c4164",
   "metadata": {},
   "outputs": [
    {
     "data": {
      "text/plain": [
       "0               win a free iphone!!! visit <URL @user1\n",
       "1    python 3.9 released on 2020-10-05. amazing upd...\n",
       "2       email leaks: admin@company.com shared details.\n",
       "3                 weather in new york!!! flood alerts.\n",
       "4           sports update: worldcup2024 starts soon!!!\n",
       "Name: clean_text, dtype: object"
      ]
     },
     "execution_count": 18,
     "metadata": {},
     "output_type": "execute_result"
    }
   ],
   "source": [
    "# Step 3 (Example 43): Remove URLs\n",
    "df[\"clean_text\"] = df[\"clean_text\"].str.replace(r'http\\S+',\"<URL\",regex=True)\n",
    "df[\"clean_text\"]"
   ]
  },
  {
   "cell_type": "code",
   "execution_count": 19,
   "id": "212639b6",
   "metadata": {},
   "outputs": [
    {
     "name": "stdout",
     "output_type": "stream",
     "text": [
      "0    WIN a FREE iPhone!!! Visit https://promo.com @...\n",
      "1    Python 3.9 released on 2020-10-05. Amazing upd...\n",
      "2                 Email leaks: <EMAIL> shared details.\n",
      "3                 Weather in New York!!! Flood alerts.\n",
      "4           Sports Update: WorldCup2024 starts soon!!!\n",
      "Name: clean_text, dtype: object\n"
     ]
    }
   ],
   "source": [
    "# 44 : remove email address \n",
    "df[\"clean_text\"] = df[\"text\"].str.replace(r'[\\w\\.-]+@[\\w\\.-]+', '<EMAIL>', regex=True)\n",
    "print(df[\"clean_text\"])\n"
   ]
  },
  {
   "cell_type": "code",
   "execution_count": 20,
   "id": "9036ca60",
   "metadata": {},
   "outputs": [
    {
     "data": {
      "text/plain": [
       "0    WIN a FREE iPhone!!! Visit https://promo.com @...\n",
       "1    Python <NUM>.<NUM> released on <NUM><NUM><NUM>...\n",
       "2                 Email leaks: <EMAIL> shared details.\n",
       "3                 Weather in New York!!! Flood alerts.\n",
       "4    Sports Update: WorldCup<NUM><NUM><NUM><NUM> st...\n",
       "Name: clean_text, dtype: object"
      ]
     },
     "execution_count": 20,
     "metadata": {},
     "output_type": "execute_result"
    }
   ],
   "source": [
    "# Step 5 (Example 45): Normalize numbers\n",
    "df[\"clean_text\"] = df[\"clean_text\"].str.replace(r'\\d',\"<NUM>\",regex=True)\n",
    "df[\"clean_text\"] "
   ]
  },
  {
   "cell_type": "code",
   "execution_count": 21,
   "id": "9066b1ce",
   "metadata": {},
   "outputs": [
    {
     "name": "stdout",
     "output_type": "stream",
     "text": [
      "0      WIN a FREE iPhone Visit httpspromocom user<NUM>\n",
      "1    Python <NUM><NUM> released on <NUM><NUM><NUM><...\n",
      "2                   Email leaks <EMAIL> shared details\n",
      "3                     Weather in New York Flood alerts\n",
      "4    Sports Update WorldCup<NUM><NUM><NUM><NUM> sta...\n",
      "Name: clean_text, dtype: object\n"
     ]
    }
   ],
   "source": [
    "# Step 6 (Example 46): Remove punctuation except placeholders\n",
    "df[\"clean_text\"] = df[\"clean_text\"].str.replace(r'[^\\w\\s<>]',\"\",regex=True)\n",
    "\n",
    "print(df[\"clean_text\"])\n"
   ]
  },
  {
   "cell_type": "code",
   "execution_count": 22,
   "id": "00471570",
   "metadata": {},
   "outputs": [
    {
     "name": "stdout",
     "output_type": "stream",
     "text": [
      "0    [WIN, a, FREE, iPhone, Visit, httpspromocom, u...\n",
      "1    [Python, <NUM><NUM>, released, on, <NUM><NUM><...\n",
      "2             [Email, leaks, <EMAIL>, shared, details]\n",
      "3              [Weather, in, New, York, Flood, alerts]\n",
      "4    [Sports, Update, WorldCup<NUM><NUM><NUM><NUM>,...\n",
      "Name: tokens, dtype: object\n"
     ]
    }
   ],
   "source": [
    "# Step 7 (Example 47): Tokenize\n",
    "\n",
    "df[\"tokens\"] = df[\"clean_text\"].str.split()\n",
    "print(df[\"tokens\"])"
   ]
  },
  {
   "cell_type": "code",
   "execution_count": 23,
   "id": "4eb2de49",
   "metadata": {},
   "outputs": [
    {
     "data": {
      "text/plain": [
       "0    [WIN, FREE, iPhone, Visit, httpspromocom, user...\n",
       "1    [Python, <NUM><NUM>, released, <NUM><NUM><NUM>...\n",
       "2             [Email, leaks, <EMAIL>, shared, details]\n",
       "3                  [Weather, New, York, Flood, alerts]\n",
       "4    [Sports, Update, WorldCup<NUM><NUM><NUM><NUM>,...\n",
       "Name: tokens, dtype: object"
      ]
     },
     "execution_count": 23,
     "metadata": {},
     "output_type": "execute_result"
    }
   ],
   "source": [
    "# Step 8 (Example 48): Remove stopwords using list comprehension\n",
    "stopwords = {'a', 'the', 'is', 'in', 'on', 'at', 'and', 'or', 'to', 'for', 'of', 'soon'}\n",
    "df[\"tokens\"] =df[\"tokens\"].apply(lambda tokens:[t for t in tokens if t not in stopwords])\n",
    "df[\"tokens\"]\n"
   ]
  },
  {
   "cell_type": "code",
   "execution_count": 24,
   "id": "27cf1108",
   "metadata": {},
   "outputs": [
    {
     "data": {
      "text/plain": [
       "0        WIN FREE iPhone Visit httpspromocom user<NUM>\n",
       "1    Python <NUM><NUM> released <NUM><NUM><NUM><NUM...\n",
       "2                   Email leaks <EMAIL> shared details\n",
       "3                        Weather New York Flood alerts\n",
       "4    Sports Update WorldCup<NUM><NUM><NUM><NUM> starts\n",
       "Name: final_cleaned_dataset, dtype: object"
      ]
     },
     "execution_count": 24,
     "metadata": {},
     "output_type": "execute_result"
    }
   ],
   "source": [
    "# Step 9 (Example 49): Join tokens back to clean string\n",
    "\n",
    "df[\"final_cleaned_dataset\"] = df[\"tokens\"].apply(lambda tokens:\" \".join(tokens))\n",
    "df[\"final_cleaned_dataset\"] "
   ]
  },
  {
   "cell_type": "code",
   "execution_count": 26,
   "id": "1ea3d02a",
   "metadata": {},
   "outputs": [
    {
     "name": "stdout",
     "output_type": "stream",
     "text": [
      "   id category                              final_cleaned_dataset\n",
      "0   1    promo      WIN FREE iPhone Visit httpspromocom user<NUM>\n",
      "1   2     tech  Python <NUM><NUM> released <NUM><NUM><NUM><NUM...\n",
      "2   3     news                 Email leaks <EMAIL> shared details\n",
      "3   4     news                      Weather New York Flood alerts\n",
      "4   5   sports  Sports Update WorldCup<NUM><NUM><NUM><NUM> starts\n"
     ]
    }
   ],
   "source": [
    "# Step 10 (Example 50): Export cleaned dataset\n",
    "\n",
    "df[[\"id\",\"category\",\"final_cleaned_dataset\"]].to_csv(\"cleaned_nlp_dataset.csv\",index=False)\n",
    "\n",
    "print(df[[\"id\",\"category\",\"final_cleaned_dataset\"]])\n"
   ]
  },
  {
   "cell_type": "code",
   "execution_count": null,
   "id": "57410189",
   "metadata": {},
   "outputs": [],
   "source": []
  }
 ],
 "metadata": {
  "kernelspec": {
   "display_name": "venv",
   "language": "python",
   "name": "python3"
  },
  "language_info": {
   "codemirror_mode": {
    "name": "ipython",
    "version": 3
   },
   "file_extension": ".py",
   "mimetype": "text/x-python",
   "name": "python",
   "nbconvert_exporter": "python",
   "pygments_lexer": "ipython3",
   "version": "3.12.0"
  }
 },
 "nbformat": 4,
 "nbformat_minor": 5
}
