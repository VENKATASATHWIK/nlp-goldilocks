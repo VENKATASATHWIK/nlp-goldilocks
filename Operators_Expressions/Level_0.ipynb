{
 "cells": [
  {
   "cell_type": "code",
   "execution_count": 1,
   "id": "16643d36",
   "metadata": {},
   "outputs": [
    {
     "name": "stdout",
     "output_type": "stream",
     "text": [
      "True\n"
     ]
    }
   ],
   "source": [
    "#1 \n",
    "t1 = \"NLP\"\n",
    "t2 = \"Natural Language Processing\"\n",
    "print(len(t1)<len(t2))"
   ]
  },
  {
   "cell_type": "code",
   "execution_count": 4,
   "id": "8f3719b4",
   "metadata": {},
   "outputs": [
    {
     "name": "stdout",
     "output_type": "stream",
     "text": [
      "True\n"
     ]
    }
   ],
   "source": [
    "# 2. Character frequency check\n",
    "word = \"hello\"\n",
    "print(word.count('l')>1)"
   ]
  },
  {
   "cell_type": "code",
   "execution_count": 5,
   "id": "2dd0c24e",
   "metadata": {},
   "outputs": [
    {
     "name": "stdout",
     "output_type": "stream",
     "text": [
      "True\n"
     ]
    }
   ],
   "source": [
    "# 3. Logical operator with string containment\n",
    "text = \"transformer\"\n",
    "print(\"form\" in text and \"trans\" in text )"
   ]
  },
  {
   "cell_type": "code",
   "execution_count": 6,
   "id": "3bb685cb",
   "metadata": {},
   "outputs": [
    {
     "name": "stdout",
     "output_type": "stream",
     "text": [
      "Language model\n"
     ]
    }
   ],
   "source": [
    "# 4. Assignment with string manipulation\n",
    "sentence = \"Language\"\n",
    "sentence += \" model\"\n",
    "print(sentence)"
   ]
  },
  {
   "cell_type": "code",
   "execution_count": 7,
   "id": "1acd2761",
   "metadata": {},
   "outputs": [
    {
     "name": "stdout",
     "output_type": "stream",
     "text": [
      "['tokenize', 'this', 'text']\n"
     ]
    }
   ],
   "source": [
    "# 5. Expression with multiple string methods and operators\n",
    "phrase = \"tokenize this text!\"\n",
    "result = phrase.lower().replace(\"!\",\"\").split()\n",
    "print(result)"
   ]
  },
  {
   "cell_type": "code",
   "execution_count": 10,
   "id": "dcc4917b",
   "metadata": {},
   "outputs": [
    {
     "name": "stdout",
     "output_type": "stream",
     "text": [
      "True\n"
     ]
    }
   ],
   "source": [
    "# 6. Use of not with NLP check\n",
    "word = \"embedding\"\n",
    "print(not word.isdigit())\n"
   ]
  },
  {
   "cell_type": "code",
   "execution_count": 12,
   "id": "83d1355c",
   "metadata": {},
   "outputs": [
    {
     "name": "stdout",
     "output_type": "stream",
     "text": [
      "7\n"
     ]
    }
   ],
   "source": [
    "# 7. Compound assignment with NLP data\n",
    "tokens = 5\n",
    "tokens *=2\n",
    "tokens -=3\n",
    "print(tokens)\n"
   ]
  },
  {
   "cell_type": "code",
   "execution_count": 14,
   "id": "555055d1",
   "metadata": {},
   "outputs": [
    {
     "name": "stdout",
     "output_type": "stream",
     "text": [
      "False\n"
     ]
    }
   ],
   "source": [
    "# 8. Chained comparison on token counts\n",
    "length = len(\"bert tokenizer\")\n",
    "print(5<length<10)"
   ]
  },
  {
   "cell_type": "code",
   "execution_count": 15,
   "id": "feba9a8f",
   "metadata": {},
   "outputs": [
    {
     "name": "stdout",
     "output_type": "stream",
     "text": [
      "100\n"
     ]
    }
   ],
   "source": [
    "# 9. Boolean value used in expression\n",
    "contain_ai = \"ai\" in \"openai\"\n",
    "print(contain_ai*100)\n"
   ]
  },
  {
   "cell_type": "code",
   "execution_count": 18,
   "id": "af83f0ea",
   "metadata": {},
   "outputs": [
    {
     "name": "stdout",
     "output_type": "stream",
     "text": [
      "False\n"
     ]
    }
   ],
   "source": [
    "#10 Mixing string and arithmetic logic\n",
    "doc = \"chatgpt\"\n",
    "print(len(doc) >5 and doc.startswith(\"chart\"))"
   ]
  },
  {
   "cell_type": "code",
   "execution_count": 20,
   "id": "eaf81db4",
   "metadata": {},
   "outputs": [
    {
     "name": "stdout",
     "output_type": "stream",
     "text": [
      "Word count: 5\n"
     ]
    }
   ],
   "source": [
    "#11 \n",
    "sentence = \"I love natural language processing\"\n",
    "words=  sentence.split()\n",
    "print(\"Word count:\", len(words) + 1 - 1)"
   ]
  },
  {
   "cell_type": "code",
   "execution_count": 21,
   "id": "916b6b5e",
   "metadata": {},
   "outputs": [
    {
     "name": "stdout",
     "output_type": "stream",
     "text": [
      "True\n"
     ]
    }
   ],
   "source": [
    "# ✅ 12. Check if word lengths match using comparison\n",
    "print(len(\"token\")== len(\"embed\"))\n"
   ]
  },
  {
   "cell_type": "code",
   "execution_count": 24,
   "id": "2240732e",
   "metadata": {},
   "outputs": [
    {
     "name": "stdout",
     "output_type": "stream",
     "text": [
      "True\n"
     ]
    }
   ],
   "source": [
    "# ✅ 13. Use logical operator to check keyword presence\n",
    "text = \"Transformers are powerful models\"\n",
    "print(\"models\" in text and \"Transformers\" in text)"
   ]
  },
  {
   "cell_type": "code",
   "execution_count": 25,
   "id": "72d20990",
   "metadata": {},
   "outputs": [
    {
     "name": "stdout",
     "output_type": "stream",
     "text": [
      "updated freq:  3\n"
     ]
    }
   ],
   "source": [
    "# ✅ 14. Use assignment operators for word frequency\n",
    "\n",
    "freq = 1\n",
    "freq +=2\n",
    "print(\"updated freq: \",freq )"
   ]
  },
  {
   "cell_type": "code",
   "execution_count": null,
   "id": "03b00696",
   "metadata": {},
   "outputs": [
    {
     "name": "stdout",
     "output_type": "stream",
     "text": [
      "True\n"
     ]
    }
   ],
   "source": [
    "# ✅ 15. Complex expression: length-based logic\n",
    "word =\"attention\"\n",
    "result = ((len(word) *2 ) >15 and word.startswith(\"a\"))\n",
    "\n",
    "print(result)"
   ]
  },
  {
   "cell_type": "code",
   "execution_count": 28,
   "id": "d623d276",
   "metadata": {},
   "outputs": [
    {
     "name": "stdout",
     "output_type": "stream",
     "text": [
      "False\n"
     ]
    }
   ],
   "source": [
    "# ✅ 16. Use of 'not' in NLP negation check\n",
    "negotion = \"not happy\"\n",
    "print(not \"happy\" in negotion)"
   ]
  },
  {
   "cell_type": "code",
   "execution_count": 29,
   "id": "f40443b3",
   "metadata": {},
   "outputs": [
    {
     "name": "stdout",
     "output_type": "stream",
     "text": [
      "Final score: 9\n"
     ]
    }
   ],
   "source": [
    "# ✅ 17. Compound assignment for updating score\n",
    "score = 5\n",
    "score *= 2\n",
    "score -= 1\n",
    "print(\"Final score:\", score)"
   ]
  },
  {
   "cell_type": "code",
   "execution_count": 30,
   "id": "7d76fd01",
   "metadata": {},
   "outputs": [
    {
     "name": "stdout",
     "output_type": "stream",
     "text": [
      "False\n"
     ]
    }
   ],
   "source": [
    "# ✅ 18. Chained comparison with token lengths\n",
    "\n",
    "token1 = \"NLP\"\n",
    "token2 = \"AI\"\n",
    "print(1<len(token1)<len(token2))"
   ]
  },
  {
   "cell_type": "code",
   "execution_count": 32,
   "id": "30b85f22",
   "metadata": {},
   "outputs": [
    {
     "name": "stdout",
     "output_type": "stream",
     "text": [
      "Binary sentiment score: 1000\n"
     ]
    }
   ],
   "source": [
    "# ✅ 9. Boolean arithmetic for binary sentiment\n",
    "\n",
    "is_positive = \"good\" in \"the movie was good\"\n",
    "print(\"Binary sentiment score:\",is_positive*1000)"
   ]
  },
  {
   "cell_type": "code",
   "execution_count": 33,
   "id": "e5868645",
   "metadata": {},
   "outputs": [
    {
     "name": "stdout",
     "output_type": "stream",
     "text": [
      "True\n"
     ]
    }
   ],
   "source": [
    "# ✅ 10. Logical check across multiple NLP conditions\n",
    "\n",
    "review = \"This is an excellent product\"\n",
    "print(\"excellent\" in review or \"good\" in review and not \"bad\" in review)"
   ]
  },
  {
   "cell_type": "code",
   "execution_count": null,
   "id": "f56937b7",
   "metadata": {},
   "outputs": [],
   "source": []
  }
 ],
 "metadata": {
  "kernelspec": {
   "display_name": "venv",
   "language": "python",
   "name": "python3"
  },
  "language_info": {
   "codemirror_mode": {
    "name": "ipython",
    "version": 3
   },
   "file_extension": ".py",
   "mimetype": "text/x-python",
   "name": "python",
   "nbconvert_exporter": "python",
   "pygments_lexer": "ipython3",
   "version": "3.12.0"
  }
 },
 "nbformat": 4,
 "nbformat_minor": 5
}
