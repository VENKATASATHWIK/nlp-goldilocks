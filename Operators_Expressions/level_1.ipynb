{
 "cells": [
  {
   "cell_type": "code",
   "execution_count": 4,
   "id": "4ba6a73d",
   "metadata": {},
   "outputs": [
    {
     "name": "stdout",
     "output_type": "stream",
     "text": [
      "4.166666666666667\n"
     ]
    }
   ],
   "source": [
    "\n",
    "# Task 1: Given a sentence, use arithmetic operators to calculate average word length.\n",
    "sentence = \"The quick brown fox jumps over the lazy dog by the riverbank.\"\n",
    "\n",
    "tokens = len(sentence.split())\n",
    "tokens\n",
    "total_chars = len(sentence.replace(\" \",\"\"))\n",
    "\n",
    "avg_word_length = total_chars/tokens\n",
    "print(avg_word_length)\n"
   ]
  },
  {
   "cell_type": "code",
   "execution_count": 5,
   "id": "f314f5b3",
   "metadata": {},
   "outputs": [
    {
     "name": "stdout",
     "output_type": "stream",
     "text": [
      "True\n",
      "False\n",
      "False\n",
      "False\n",
      "True\n",
      "True\n"
     ]
    }
   ],
   "source": [
    "# Task 2: Compare the lengths of two different NLP-related strings using all comparison operators.\n",
    "str1 = \"Natural Language Processing\" \n",
    "str2 =  \"Machine Learning Algorithms\"\n",
    "\n",
    "print(len(str1)==len(str2))\n",
    "print(len(str1)!=len(str2))\n",
    "print(len(str1)>len(str2))\n",
    "print(len(str1)<len(str2))\n",
    "print(len(str1)<=len(str2))\n",
    "print(len(str1)>=len(str2))\n"
   ]
  },
  {
   "cell_type": "code",
   "execution_count": 6,
   "id": "b420e17d",
   "metadata": {},
   "outputs": [
    {
     "name": "stdout",
     "output_type": "stream",
     "text": [
      "False\n"
     ]
    }
   ],
   "source": [
    "# Task 3: Use logical operators to check if a sentence contains both a subject and verb (e.g., \"I\" and \"am\").\n",
    "print(\"I\" in sentence and \"am\" in sentence)"
   ]
  },
  {
   "cell_type": "code",
   "execution_count": 10,
   "id": "5e67f2b3",
   "metadata": {},
   "outputs": [
    {
     "name": "stdout",
     "output_type": "stream",
     "text": [
      "the ai count is 3 and machine learning count is 2\n"
     ]
    }
   ],
   "source": [
    "# Task 4: Apply assignment operators to track running count of specific keywords in a paragraph.\n",
    "paragraph = \"Artificial intelligence has revolutionized many industries. Machine learning, a subset of AI, uses data to improve performance. Deep learning models have achieved remarkable results in image recognition. AI systems can process natural language and generate human-like text. Machine learning algorithms need large datasets for training. Companies are investing heavily in AI research and development. Deep learning requires significant computational resources.\"\n",
    "\n",
    "#\n",
    "#print(paragraph.count(\"AI\") and paragraph.count(\"Machine learning\"))\n",
    "\n",
    "ai_count = paragraph.count(\"AI\")\n",
    "ml_count = paragraph.count(\"Machine learning\")\n",
    "\n",
    "print(f\"the ai count is {ai_count} and machine learning count is {ml_count}\")\n"
   ]
  },
  {
   "cell_type": "code",
   "execution_count": 14,
   "id": "af631b0a",
   "metadata": {},
   "outputs": [
    {
     "name": "stdout",
     "output_type": "stream",
     "text": [
      "True\n"
     ]
    }
   ],
   "source": [
    "# Task 5: Write an expression that combines +, %, >, and and operators to determine if a token's length is odd and greater than a threshold.\n",
    "word = \"transformer\"\n",
    "word_len = len(word)\n",
    "threshold = 5\n",
    "\n",
    "print((word_len%2!=0) and (word_len+0>threshold))"
   ]
  },
  {
   "cell_type": "code",
   "execution_count": null,
   "id": "2a6922e6",
   "metadata": {},
   "outputs": [],
   "source": []
  },
  {
   "cell_type": "code",
   "execution_count": null,
   "id": "60761951",
   "metadata": {},
   "outputs": [],
   "source": []
  },
  {
   "cell_type": "code",
   "execution_count": null,
   "id": "c0640ba7",
   "metadata": {},
   "outputs": [],
   "source": []
  }
 ],
 "metadata": {
  "kernelspec": {
   "display_name": "venv",
   "language": "python",
   "name": "python3"
  },
  "language_info": {
   "codemirror_mode": {
    "name": "ipython",
    "version": 3
   },
   "file_extension": ".py",
   "mimetype": "text/x-python",
   "name": "python",
   "nbconvert_exporter": "python",
   "pygments_lexer": "ipython3",
   "version": "3.12.0"
  }
 },
 "nbformat": 4,
 "nbformat_minor": 5
}
