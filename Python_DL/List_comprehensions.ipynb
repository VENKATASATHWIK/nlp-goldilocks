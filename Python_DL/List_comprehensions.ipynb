{
 "cells": [
  {
   "cell_type": "code",
   "execution_count": 2,
   "id": "32a8d872",
   "metadata": {},
   "outputs": [
    {
     "name": "stdout",
     "output_type": "stream",
     "text": [
      "[0, 1, 4, 9, 16]\n",
      "[10, 11, 12]\n"
     ]
    }
   ],
   "source": [
    "# 1. Square numbers\n",
    "squares = [x**2 for x in range(5)]\n",
    "\n",
    "#2 add 10 to each number \n",
    "plus_ten = [x+10 for x in range(3)]\n",
    "\n",
    "print(squares)\n",
    "print(plus_ten)"
   ]
  },
  {
   "cell_type": "markdown",
   "id": "f6242f70",
   "metadata": {},
   "source": [
    "🔹 With Conditions"
   ]
  },
  {
   "cell_type": "code",
   "execution_count": 4,
   "id": "28b457d5",
   "metadata": {},
   "outputs": [
    {
     "name": "stdout",
     "output_type": "stream",
     "text": [
      "[0, 2, 4, 6, 8] [36, 49, 64, 81]\n"
     ]
    }
   ],
   "source": [
    "# 3\n",
    "evens = [ x for x in range(10) if x%2==0]\n",
    "\n",
    "#4 square only if num > 5 \n",
    "squares = [x**2 for x in range(10) if x>5 ]\n",
    "\n",
    "print(evens,squares)"
   ]
  },
  {
   "cell_type": "markdown",
   "id": "263425a0",
   "metadata": {},
   "source": [
    "🔹 With Strings"
   ]
  },
  {
   "cell_type": "code",
   "execution_count": 5,
   "id": "c831ab43",
   "metadata": {},
   "outputs": [
    {
     "name": "stdout",
     "output_type": "stream",
     "text": [
      "['relu', 'dropout', 'batchnorm']\n",
      "['t', 'r', 'n', 's', 'f', 'r', 'm', 't', 'n']\n"
     ]
    }
   ],
   "source": [
    "#5\n",
    "words = [\"Relu\",\"Dropout\",\"BatchNorm\"]\n",
    "lower= [w.lower() for w in words]\n",
    "print(lower)\n",
    "\n",
    "#7 remove vowels \n",
    "text  =\"transformation\"\n",
    "no_vowels = [c for c in text if c not in \"aeiou\"]\n",
    "print(no_vowels)"
   ]
  },
  {
   "cell_type": "markdown",
   "id": "20c66781",
   "metadata": {},
   "source": [
    "🔹 With Functions"
   ]
  },
  {
   "cell_type": "code",
   "execution_count": 8,
   "id": "dd4d8d37",
   "metadata": {},
   "outputs": [
    {
     "name": "stdout",
     "output_type": "stream",
     "text": [
      "[4, 6, 9]\n",
      "[0, 1, 8, 27]\n"
     ]
    }
   ],
   "source": [
    "#7 \n",
    "texts  = [\"cats\",\"resnet\",\"attention\"]\n",
    "lengths = [len(t) for t in texts]\n",
    "print(lengths)\n",
    "# 8\n",
    "def cube(x):return x**3\n",
    "cubes = [cube(i) for i in range(4)]\n",
    "print(cubes)\n",
    " "
   ]
  },
  {
   "cell_type": "markdown",
   "id": "c6c30e5d",
   "metadata": {},
   "source": [
    "🔹 Using zip()"
   ]
  },
  {
   "cell_type": "code",
   "execution_count": 9,
   "id": "07c67c57",
   "metadata": {},
   "outputs": [
    {
     "name": "stdout",
     "output_type": "stream",
     "text": [
      "[5, 7, 9]\n"
     ]
    }
   ],
   "source": [
    "#9 combine and sum2 lists \n",
    "a =[1,2,3]\n",
    "b = [4,5,6]\n",
    "\n",
    "sums =[x+y for x,y in zip(a,b)\n",
    "       ]\n",
    "print(sums)"
   ]
  },
  {
   "cell_type": "code",
   "execution_count": 12,
   "id": "817c46a7",
   "metadata": {},
   "outputs": [
    {
     "name": "stdout",
     "output_type": "stream",
     "text": [
      "[1, 2, 3, 4]\n",
      "[[1, 4], [9, 16]]\n"
     ]
    }
   ],
   "source": [
    "#10 \n",
    "matrix = [[1,2],[3,4]]\n",
    "\n",
    "flat = [num for row in matrix for num in row]\n",
    "print(flat)\n",
    "\n",
    "#11 \n",
    "double_nested = [[num ** 2 for num in row] for row in matrix]\n",
    "\n",
    "print(double_nested)\n"
   ]
  },
  {
   "cell_type": "code",
   "execution_count": 15,
   "id": "e6d616c3",
   "metadata": {},
   "outputs": [
    {
     "name": "stdout",
     "output_type": "stream",
     "text": [
      "[True, True]\n",
      "[0.9, 0.6, 0.3]\n"
     ]
    }
   ],
   "source": [
    "#12 \n",
    "flags =[True,False,True]\n",
    "kept = [f for f in flags if f]\n",
    "print(kept)\n",
    "\n",
    "#13 \n",
    "losses = [0.9,0.6,0.3,0.1]\n",
    "filtered  =[l for l in losses if l>0.2]\n",
    "print(filtered)\n"
   ]
  },
  {
   "cell_type": "code",
   "execution_count": null,
   "id": "00346235",
   "metadata": {},
   "outputs": [
    {
     "name": "stdout",
     "output_type": "stream",
     "text": [
      "[5, 10, 15]\n",
      "[3, 6, 9, 12, 15, 18, 21, 24, 27, 30, 33, 36, 39, 42, 45, 48, 51, 54, 57, 60, 63, 66, 69, 72, 75, 78, 81, 84, 87, 90, 93, 96, 99]\n"
     ]
    }
   ],
   "source": [
    "#14\n",
    "mutliples = [x for x in range(1,20) if x%5==0]\n",
    "print(mutliples)\n",
    "\n",
    "mutliples_2 = [ x for x in range(1,100) if x%3==0]\n",
    "print(mutliples_2)\n"
   ]
  },
  {
   "cell_type": "code",
   "execution_count": 22,
   "id": "42ee88e7",
   "metadata": {},
   "outputs": [
    {
     "name": "stdout",
     "output_type": "stream",
     "text": [
      "[(0, 0), (1, 1), (2, 4), (3, 9), (4, 16), (5, 25), (6, 36), (7, 49), (8, 64), (9, 81)]\n",
      "{0: 'cat', 1: 'dog', 2: 'horse'}\n"
     ]
    }
   ],
   "source": [
    "# 15. Create (num, square)\n",
    "\n",
    "pairs = [(x,x**2 )for x in range(10)]\n",
    "print(pairs)\n",
    "\n",
    "#16 \n",
    "labels =[\"cat\",\"dog\",\"horse\"]\n",
    "label_map = {i:label for i ,label in enumerate(labels) }\n",
    "print(label_map)\n"
   ]
  },
  {
   "cell_type": "code",
   "execution_count": 25,
   "id": "e6c4cffa",
   "metadata": {},
   "outputs": [
    {
     "name": "stdout",
     "output_type": "stream",
     "text": [
      "['deep', 'learning', 'with', 'transformers']\n"
     ]
    }
   ],
   "source": [
    "#17 \n",
    "# tokens and lowercase \n",
    "sentence = \"deep learning with transformers\"\n",
    "tokens = [word.lower() for word in sentence.split()]\n",
    "print(tokens)"
   ]
  },
  {
   "cell_type": "code",
   "execution_count": 28,
   "id": "e53c7486",
   "metadata": {},
   "outputs": [
    {
     "name": "stdout",
     "output_type": "stream",
     "text": [
      "[1, 2, 3]\n",
      "[12, 18]\n"
     ]
    }
   ],
   "source": [
    "#18 \n",
    "empty = []\n",
    "squared = [x**2 for x in empty]\n",
    "\n",
    "#19 with None \n",
    "\n",
    "values =[1,None, 2, None, 3]\n",
    "\n",
    "non_none = [v for v in values if v is not None]\n",
    "print(non_none)\n",
    "\n",
    "# 20. Keep only even and > 10\n",
    "nums = [8,12,15,18]\n",
    "filtered  = [x for x in nums if x%2==0 and x>10]\n",
    "print(filtered)\n"
   ]
  },
  {
   "cell_type": "markdown",
   "id": "17e2bd0c",
   "metadata": {},
   "source": [
    "✅ Level 1: List Comprehensions – 10 Logic-Building Tasks"
   ]
  },
  {
   "cell_type": "code",
   "execution_count": 30,
   "id": "6d60e2d8",
   "metadata": {},
   "outputs": [
    {
     "name": "stdout",
     "output_type": "stream",
     "text": [
      "[64, 128, 256]\n"
     ]
    }
   ],
   "source": [
    "#1 🔹 Task 1: From a list of layer sizes, create a new list of only even numbers\n",
    "\n",
    "layers = [64, 128, 513, 256, 1025]\n",
    "\n",
    "even_layers = [x for x in layers if x%2==0]\n",
    "\n",
    "# Output: [64, 128, 256]\n",
    "print(even_layers)\n"
   ]
  },
  {
   "cell_type": "code",
   "execution_count": 31,
   "id": "434df1e3",
   "metadata": {},
   "outputs": [
    {
     "name": "stdout",
     "output_type": "stream",
     "text": [
      "[121, 400]\n"
     ]
    }
   ],
   "source": [
    "#2 🔹 Task 2: Square only numbers that are greater than 10\n",
    "\n",
    "nums = [2, 5, 11, 20, 7]\n",
    "\n",
    "# Output: [121, 400]\n",
    "\n",
    "squares_2  =[x**2 for x in nums if x>10]\n",
    "print(squares_2)"
   ]
  },
  {
   "cell_type": "code",
   "execution_count": null,
   "id": "efe3f82d",
   "metadata": {},
   "outputs": [
    {
     "name": "stdout",
     "output_type": "stream",
     "text": [
      "['Deep', 'Learning', 'Transformers', 'powerful']\n"
     ]
    }
   ],
   "source": [
    "# 🔹 Task 3: From a sentence, get the list of lowercase words excluding stopwords\n",
    "sentence = \"Deep Learning with Transformers is powerful\"\n",
    "stopwords = [\"with\", \"is\"]\n",
    "\n",
    "# Output: ['deep', 'learning', 'transformers', 'powerful']\n",
    "\n",
    "output = [word for word in sentence.split() if word not in stopwords]\n",
    "print(output)\n"
   ]
  },
  {
   "cell_type": "code",
   "execution_count": 55,
   "id": "57b60e03",
   "metadata": {},
   "outputs": [
    {
     "name": "stdout",
     "output_type": "stream",
     "text": [
      "[1, 0, 1, 1, 1]\n"
     ]
    }
   ],
   "source": [
    "# 🔹 Task 4: From two lists of y_true and y_pred, create a list of 1 if correct else 0 \n",
    "y_true = [0, 1, 1, 0, 1]\n",
    "y_pred = [0, 0, 1, 0, 1]\n",
    "\n",
    "# Output: [1, 0, 1, 1, 1]\n",
    "\n",
    "result = [1 if yt==yp else 0 for yt, yp in zip(y_true,y_pred) ]\n",
    "print(result)"
   ]
  },
  {
   "cell_type": "code",
   "execution_count": 41,
   "id": "2c6c9b28",
   "metadata": {},
   "outputs": [
    {
     "name": "stdout",
     "output_type": "stream",
     "text": [
      "[0.99, 0.43, 0.12]\n"
     ]
    }
   ],
   "source": [
    "# 5 \n",
    "losses = [0.987654, 0.432198, 0.123456]\n",
    "\n",
    "# Output: [0.99, 0.43, 0.12]\n",
    "\n",
    "roundoff  =[round(l,2) for l in losses]\n",
    "print(roundoff)"
   ]
  },
  {
   "cell_type": "code",
   "execution_count": null,
   "id": "d9db8255",
   "metadata": {},
   "outputs": [
    {
     "name": "stdout",
     "output_type": "stream",
     "text": [
      "[('dropout', 7), ('relu', 4), ('softmax', 7)]\n"
     ]
    }
   ],
   "source": [
    "# 🔹 Task 6: Create (word, length) pairs from list of words\n",
    "words = [\"dropout\", \"relu\", \"softmax\"]\n",
    "\n",
    "# Output: [('dropout', 7), ('relu', 4), ('softmax', 7)]\n",
    "\n",
    "pairs_2 = [(t,len(t)) for t in words]\n",
    "print(pairs_2)"
   ]
  },
  {
   "cell_type": "code",
   "execution_count": 47,
   "id": "69b1d1f4",
   "metadata": {},
   "outputs": [
    {
     "data": {
      "text/plain": [
       "['lr', 'dropout']"
      ]
     },
     "execution_count": 47,
     "metadata": {},
     "output_type": "execute_result"
    }
   ],
   "source": [
    "#7 🔹 Task 7: From config dictionary, get a list of keys with float values\n",
    "\n",
    "config = {\n",
    "    \"lr\": 0.001,\n",
    "    \"epochs\": 10,\n",
    "    \"dropout\": 0.5,\n",
    "    \"optimizer\": \"adam\"\n",
    "}\n",
    "\n",
    "# Output: ['lr', 'dropout']\n",
    "\n",
    " \n",
    "output_2 = [key for key, value in config.items() if isinstance(value,float)]\n",
    "\n",
    "\n",
    "output_2"
   ]
  },
  {
   "cell_type": "code",
   "execution_count": 50,
   "id": "422fe1fe",
   "metadata": {},
   "outputs": [
    {
     "name": "stdout",
     "output_type": "stream",
     "text": [
      "[2, 4, 6]\n"
     ]
    }
   ],
   "source": [
    "#  Task 8: From a nested list, flatten only even numbers\n",
    "\n",
    "matrix  =[[1,2,3],[4,5,6]]\n",
    "\n",
    "flaten = [num for row in matrix for num in row if num%2==0]\n",
    "print(flaten)\n"
   ]
  },
  {
   "cell_type": "code",
   "execution_count": 54,
   "id": "63f37700",
   "metadata": {},
   "outputs": [
    {
     "name": "stdout",
     "output_type": "stream",
     "text": [
      "[0.91, 0.79, 0.88, 0.5]\n"
     ]
    }
   ],
   "source": [
    "# 🔹 Task 9: Given list of accuracies, convert to \"pass\"/\"fail\" labels (threshold = 0.8)\n",
    "\n",
    "accs = [0.91, 0.79, 0.88, 0.5]\n",
    "\n",
    "# Output: ['pass', 'fail', 'pass', 'fail']\n",
    "\n",
    "result = [\"pass\" if acc>=0.8 else \"fail\" for acc in accs]\n",
    "print(accs)\n"
   ]
  },
  {
   "cell_type": "code",
   "execution_count": null,
   "id": "ada596d8",
   "metadata": {},
   "outputs": [
    {
     "data": {
      "text/plain": [
       "[False, False]"
      ]
     },
     "execution_count": 52,
     "metadata": {},
     "output_type": "execute_result"
    }
   ],
   "source": [
    "#🔹 🔹 Task 10: Create a list of tuples (epoch, loss)\n",
    "accs = [0.91, 0.79, 0.88, 0.5]\n",
    "\n",
    "# Output: ['pass', 'fail', 'pass', 'fail']\n",
    "result  = [l==\"pass\" for l in accs if l>0.8]\n",
    "result "
   ]
  },
  {
   "cell_type": "code",
   "execution_count": 53,
   "id": "3522e190",
   "metadata": {},
   "outputs": [
    {
     "name": "stdout",
     "output_type": "stream",
     "text": [
      "[(1, 0.9), (2, 0.6), (3, 0.3)]\n"
     ]
    }
   ],
   "source": [
    "#task 10 \n",
    "epochs = [1, 2, 3]\n",
    "losses = [0.9, 0.6, 0.3]\n",
    "\n",
    "# Output: [(1, 0.9), (2, 0.6), (3, 0.3)]\n",
    "\n",
    "list_3  =[(x,y) for x,y in zip(epochs,losses)]\n",
    "print(list_3)"
   ]
  },
  {
   "cell_type": "code",
   "execution_count": null,
   "id": "afa4d8a3",
   "metadata": {},
   "outputs": [],
   "source": []
  }
 ],
 "metadata": {
  "kernelspec": {
   "display_name": "venv",
   "language": "python",
   "name": "python3"
  },
  "language_info": {
   "codemirror_mode": {
    "name": "ipython",
    "version": 3
   },
   "file_extension": ".py",
   "mimetype": "text/x-python",
   "name": "python",
   "nbconvert_exporter": "python",
   "pygments_lexer": "ipython3",
   "version": "3.12.0"
  }
 },
 "nbformat": 4,
 "nbformat_minor": 5
}
