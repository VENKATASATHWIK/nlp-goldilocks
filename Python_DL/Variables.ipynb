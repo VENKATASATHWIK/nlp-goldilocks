{
 "cells": [
  {
   "cell_type": "code",
   "execution_count": 8,
   "id": "c6c55545",
   "metadata": {},
   "outputs": [
    {
     "name": "stdout",
     "output_type": "stream",
     "text": [
      "50\n",
      "\n",
      "0.001\n",
      "\n",
      "relu\n",
      "\n",
      "True\n",
      "\n",
      "32 4\n"
     ]
    }
   ],
   "source": [
    "epochs  = 50\n",
    "print(epochs)\n",
    "print()\n",
    "learning_rate = 0.001\n",
    "print(learning_rate)\n",
    "print()\n",
    "activation = \"relu\"\n",
    "print(activation)\n",
    "print()\n",
    "use_dropput = True\n",
    "print(use_dropput)\n",
    "print()\n",
    "batch_size ,num_layers = 32,4 \n",
    "print(batch_size,num_layers)"
   ]
  },
  {
   "cell_type": "markdown",
   "id": "ed3d6aee",
   "metadata": {},
   "source": [
    "### updating and reassigning \n"
   ]
  },
  {
   "cell_type": "code",
   "execution_count": null,
   "id": "9906c186",
   "metadata": {},
   "outputs": [
    {
     "name": "stdout",
     "output_type": "stream",
     "text": [
      "0.1\n",
      "\n",
      "70\n",
      "\n",
      "10 5\n"
     ]
    }
   ],
   "source": [
    "learning_rate=0.1\n",
    "print(learning_rate)\n",
    "print()\n",
    "\n",
    "epochs +=10 \n",
    "print(epochs)\n",
    "\n",
    "print()\n",
    "a,b = 5,10\n",
    "a,b=b,a \n",
    "print(a,b)\n",
    "print()\n",
    "\n"
   ]
  },
  {
   "cell_type": "markdown",
   "id": "3a7e2cd6",
   "metadata": {},
   "source": [
    "#### combining with expressions "
   ]
  },
  {
   "cell_type": "code",
   "execution_count": null,
   "id": "aba13f94",
   "metadata": {},
   "outputs": [
    {
     "name": "stdout",
     "output_type": "stream",
     "text": [
      "7000\n",
      "\n",
      "0.5\n"
     ]
    }
   ],
   "source": [
    "steps_per_epoch = 100\n",
    "total_steps = steps_per_epoch*epochs\n",
    "print(total_steps)\n",
    "\n",
    "print()\n",
    "\n",
    "dropout_rate = 0.5\n",
    "keep_prob = 1-dropout_rate\n",
    "print(keep_prob)\n",
    "\n",
    "\n"
   ]
  },
  {
   "cell_type": "markdown",
   "id": "0f0c7da3",
   "metadata": {},
   "source": [
    "##### with datatypes "
   ]
  },
  {
   "cell_type": "code",
   "execution_count": 20,
   "id": "a7b67309",
   "metadata": {},
   "outputs": [
    {
     "name": "stdout",
     "output_type": "stream",
     "text": [
      "<class 'float'>\n",
      "0.001\n",
      "\n",
      "model trained\n"
     ]
    }
   ],
   "source": [
    "print(type(learning_rate))\n",
    "\n",
    "#data conversions \n",
    "\n",
    "lr_str = \"0.001\"\n",
    "lr_float = float(lr_str)\n",
    "print(lr_float)\n",
    "\n",
    "print()\n",
    "\n",
    "model_trained = True\n",
    "if not model_trained:\n",
    "    print(\"training needed\")\n",
    "    \n",
    "else:\n",
    "    print(\"model trained\")\n"
   ]
  },
  {
   "cell_type": "markdown",
   "id": "495e47e0",
   "metadata": {},
   "source": [
    "#### variables with lists and loops "
   ]
  },
  {
   "cell_type": "code",
   "execution_count": 22,
   "id": "9f381e87",
   "metadata": {},
   "outputs": [
    {
     "name": "stdout",
     "output_type": "stream",
     "text": [
      "running epoch:  1\n",
      "running epoch:  2\n",
      "running epoch:  3\n",
      "\n",
      "224\n"
     ]
    }
   ],
   "source": [
    "for epoch in range(1,4):\n",
    "    print(\"running epoch: \",epoch)\n",
    "    \n",
    "print()\n",
    "\n",
    "#sum of batches \n",
    "\n",
    "batch_size = [32,64,128]\n",
    "\n",
    "total_size = sum(batch_size)\n",
    "print(total_size)\n",
    "    "
   ]
  },
  {
   "cell_type": "markdown",
   "id": "f3ba617b",
   "metadata": {},
   "source": [
    "🔸 Realistic DL Settings"
   ]
  },
  {
   "cell_type": "code",
   "execution_count": 25,
   "id": "60268d00",
   "metadata": {},
   "outputs": [
    {
     "name": "stdout",
     "output_type": "stream",
     "text": [
      "{'lr': 0.001, 'optimizer': 'adam', 'drop_out': 0.3}\n",
      "{'lr': 0.001, 'optimizer': 'adam', 'drop_out': 0.1}\n"
     ]
    }
   ],
   "source": [
    "config = {\n",
    "    'lr':0.001,\n",
    "    \"optimizer\":\"adam\",\n",
    "    \"drop_out\":0.3\n",
    "}\n",
    "\n",
    "print(config)\n",
    "\n",
    "#changing config dynamically \n",
    "\n",
    "config[\"drop_out\"]=0.1\n",
    "print(config)"
   ]
  },
  {
   "cell_type": "code",
   "execution_count": 30,
   "id": "5e0501da",
   "metadata": {},
   "outputs": [
    {
     "name": "stdout",
     "output_type": "stream",
     "text": [
      "3.1416\n",
      "64 32\n",
      "32\n"
     ]
    }
   ],
   "source": [
    "PI = 3.1416\n",
    "print(PI)\n",
    "\n",
    "# snakecase vs camelCase\n",
    "\n",
    "batch_size = 64\n",
    "batchSize = 32\n",
    "print(batch_size,batchSize)\n",
    "\n",
    "print(batchSize)"
   ]
  },
  {
   "cell_type": "markdown",
   "id": "63e2a6bd",
   "metadata": {},
   "source": [
    "### level 0 \n"
   ]
  },
  {
   "cell_type": "markdown",
   "id": "86158974",
   "metadata": {},
   "source": [
    " Task 1: Swap two variables without using a third variable"
   ]
  },
  {
   "cell_type": "code",
   "execution_count": 31,
   "id": "c2c30393",
   "metadata": {},
   "outputs": [
    {
     "name": "stdout",
     "output_type": "stream",
     "text": [
      "before swapping: 7,14\n",
      "after swapping : 14,7\n"
     ]
    }
   ],
   "source": [
    "a=7\n",
    "b=14\n",
    "print(f\"before swapping: {a},{b}\")\n",
    "a,b = b,a\n",
    "print(f\"after swapping : {a},{b}\")"
   ]
  },
  {
   "cell_type": "markdown",
   "id": "0137a1c3",
   "metadata": {},
   "source": [
    "🔹 Task 2: Calculate total iterations needed for training"
   ]
  },
  {
   "cell_type": "code",
   "execution_count": 33,
   "id": "b8717f6e",
   "metadata": {},
   "outputs": [
    {
     "data": {
      "text/plain": [
       "1000"
      ]
     },
     "execution_count": 33,
     "metadata": {},
     "output_type": "execute_result"
    }
   ],
   "source": [
    "epochs  = 10\n",
    "steps_per_epoch = 100\n",
    "total_iterations = epochs*steps_per_epoch\n",
    "\n",
    "total_iterations"
   ]
  },
  {
   "cell_type": "markdown",
   "id": "a25f6b5a",
   "metadata": {},
   "source": [
    "🔹 Task 3: Track accuracy improvement across epochs"
   ]
  },
  {
   "cell_type": "code",
   "execution_count": 45,
   "id": "1d02ad54",
   "metadata": {},
   "outputs": [
    {
     "name": "stdout",
     "output_type": "stream",
     "text": [
      "for epoch 1 accuracy is 0.76 \n",
      "for epoch 2 accuracy is 0.77 \n",
      "for epoch 3 accuracy is 0.78 \n",
      "for epoch 4 accuracy is 0.79 \n",
      "for epoch 5 accuracy is 0.8 \n"
     ]
    }
   ],
   "source": [
    "accuracy = 0.75\n",
    "improvement  = 0.01\n",
    "\n",
    "for epoch in range(1,6):\n",
    "    accuracy+=improvement\n",
    "    print(f\"for epoch {epoch} accuracy is {accuracy} \")"
   ]
  },
  {
   "cell_type": "markdown",
   "id": "095af6fd",
   "metadata": {},
   "source": [
    "🔹 Task 4: Format a model summary string"
   ]
  },
  {
   "cell_type": "code",
   "execution_count": 34,
   "id": "12ebc8a6",
   "metadata": {},
   "outputs": [
    {
     "name": "stdout",
     "output_type": "stream",
     "text": [
      "Model CNN has 5 layers and 12000 parameters\n"
     ]
    }
   ],
   "source": [
    "model_name = \"CNN\"\n",
    "layers = 5\n",
    "params = 12000\n",
    "\n",
    "print(f\"Model {model_name} has {layers} layers and {params} parameters\")"
   ]
  },
  {
   "cell_type": "markdown",
   "id": "66e95683",
   "metadata": {},
   "source": [
    "🔹 Task 5: Conditional training print"
   ]
  },
  {
   "cell_type": "code",
   "execution_count": 35,
   "id": "f250ecc6",
   "metadata": {},
   "outputs": [
    {
     "name": "stdout",
     "output_type": "stream",
     "text": [
      "Begin training\n"
     ]
    }
   ],
   "source": [
    "trained = False \n",
    "\n",
    "if not trained :\n",
    "    print(\"Begin training\")"
   ]
  },
  {
   "cell_type": "markdown",
   "id": "3db6538e",
   "metadata": {},
   "source": [
    "🔹 Task 6: Hyperparameter update with logic"
   ]
  },
  {
   "cell_type": "code",
   "execution_count": 40,
   "id": "db6fa181",
   "metadata": {},
   "outputs": [
    {
     "name": "stdout",
     "output_type": "stream",
     "text": [
      "0.01\n"
     ]
    }
   ],
   "source": [
    "lr=0.001\n",
    "if lr<0.01:\n",
    "    lr*=10\n",
    "\n",
    "print(lr)"
   ]
  },
  {
   "cell_type": "markdown",
   "id": "7379b8ea",
   "metadata": {},
   "source": [
    "🔹 Task 7: Extract info from a config dictionary"
   ]
  },
  {
   "cell_type": "code",
   "execution_count": 41,
   "id": "64ae165c",
   "metadata": {},
   "outputs": [
    {
     "name": "stdout",
     "output_type": "stream",
     "text": [
      "32\n"
     ]
    }
   ],
   "source": [
    "config = {\n",
    "    \"lr\": 0.001,\n",
    "    \"batch_size\": 32,\n",
    "    \"dropout\": 0.3\n",
    "}\n",
    "\n",
    "print(config[\"batch_size\"])\n"
   ]
  },
  {
   "cell_type": "code",
   "execution_count": 42,
   "id": "870fe69a",
   "metadata": {},
   "outputs": [
    {
     "name": "stdout",
     "output_type": "stream",
     "text": [
      "epoch 1 completed\n",
      "epoch 2 completed\n",
      "epoch 3 completed\n"
     ]
    }
   ],
   "source": [
    "\n",
    "for i in range(1,4):\n",
    "    print(f'epoch {i} completed')"
   ]
  },
  {
   "cell_type": "markdown",
   "id": "273339fa",
   "metadata": {},
   "source": [
    "🔹 Task 9: Check if variable exists before using"
   ]
  },
  {
   "cell_type": "code",
   "execution_count": 46,
   "id": "d68256c3",
   "metadata": {},
   "outputs": [
    {
     "name": "stdout",
     "output_type": "stream",
     "text": [
      "not defined\n"
     ]
    }
   ],
   "source": [
    "try:\n",
    "    print(momentum)\n",
    "except NameError:\n",
    "    print(\"not defined\")"
   ]
  },
  {
   "cell_type": "markdown",
   "id": "e4d34944",
   "metadata": {},
   "source": [
    "🔹 Task 10: Create a parameter summary"
   ]
  },
  {
   "cell_type": "code",
   "execution_count": 43,
   "id": "19ae6aed",
   "metadata": {},
   "outputs": [
    {
     "name": "stdout",
     "output_type": "stream",
     "text": [
      "LR : 0.01 | Batch Size: 64 | Optimizer:adam\n"
     ]
    }
   ],
   "source": [
    "lr = 0.01\n",
    "batch_size = 64\n",
    "optimizer = \"adam\"\n",
    "# Output: \"[LR: 0.01 | Batch Size: 64 | Optimizer: adam]\"\n",
    "print(f\"LR : {lr} | Batch Size: {batch_size} | Optimizer:{optimizer}\")"
   ]
  },
  {
   "cell_type": "code",
   "execution_count": null,
   "id": "14545e5c",
   "metadata": {},
   "outputs": [],
   "source": []
  },
  {
   "cell_type": "code",
   "execution_count": null,
   "id": "ab4bd87c",
   "metadata": {},
   "outputs": [],
   "source": []
  },
  {
   "cell_type": "code",
   "execution_count": null,
   "id": "66c4a0f1",
   "metadata": {},
   "outputs": [],
   "source": []
  }
 ],
 "metadata": {
  "kernelspec": {
   "display_name": "venv",
   "language": "python",
   "name": "python3"
  },
  "language_info": {
   "codemirror_mode": {
    "name": "ipython",
    "version": 3
   },
   "file_extension": ".py",
   "mimetype": "text/x-python",
   "name": "python",
   "nbconvert_exporter": "python",
   "pygments_lexer": "ipython3",
   "version": "3.12.0"
  }
 },
 "nbformat": 4,
 "nbformat_minor": 5
}
