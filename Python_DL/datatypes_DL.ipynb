{
 "cells": [
  {
   "cell_type": "code",
   "execution_count": 2,
   "id": "90887dc8",
   "metadata": {},
   "outputs": [
    {
     "name": "stdout",
     "output_type": "stream",
     "text": [
      "<class 'int'>\n",
      "<class 'float'>\n",
      "Accuracy: 0.88\n"
     ]
    }
   ],
   "source": [
    "# 1. Epoch count\n",
    "epochs = 50\n",
    "print(type(epochs))  # <class 'int'>\n",
    "\n",
    "# 2. Learning rate\n",
    "lr = 0.001\n",
    "print(type(lr))  # <class 'float'>\n",
    "\n",
    "# 3. Accuracy after training\n",
    "final_accuracy = 0.88\n",
    "print(\"Accuracy:\", final_accuracy)\n"
   ]
  },
  {
   "cell_type": "code",
   "execution_count": 4,
   "id": "a43025b8",
   "metadata": {},
   "outputs": [
    {
     "name": "stdout",
     "output_type": "stream",
     "text": [
      "<class 'bool'>\n",
      "False\n"
     ]
    }
   ],
   "source": [
    "#4 \n",
    "early_stop = False\n",
    "print(type(early_stop))\n",
    "\n",
    "#5 invert boolean flag\n",
    "\n",
    "use_scheduler = True\n",
    "use_scheduler  = not use_scheduler\n",
    "print(use_scheduler)"
   ]
  },
  {
   "cell_type": "code",
   "execution_count": 7,
   "id": "458a2ad4",
   "metadata": {},
   "outputs": [
    {
     "name": "stdout",
     "output_type": "stream",
     "text": [
      "model:  Resnet18\n",
      "using CIFAR-18\n",
      "./models/best_model.pth\n"
     ]
    }
   ],
   "source": [
    "#6 model name\n",
    "model_name = \"Resnet18\"\n",
    "print(\"model: \",model_name)\n",
    "#7 dataset name\n",
    "dataset = \"CIFAR-18\"\n",
    "print(\"using\",dataset)\n",
    "\n",
    "#8 path to save checkpoint\n",
    "\n",
    "save_path = \"./models/best_model.pth\"\n",
    "print(save_path)"
   ]
  },
  {
   "cell_type": "code",
   "execution_count": null,
   "id": "90821f83",
   "metadata": {},
   "outputs": [
    {
     "name": "stdout",
     "output_type": "stream",
     "text": [
      "['conv', 'relu', 'maxpool', 'fc']\n",
      "['conv', 'relu', 'maxpool', 'fc', 'softmax']\n",
      "conv\n"
     ]
    }
   ],
   "source": [
    "#🔸 Lists\n",
    "\n",
    "# 9. Layers in a model\n",
    "\n",
    "layers = [\"conv\",\"relu\",\"maxpool\",\"fc\"]\n",
    "print(layers)\n",
    "\n",
    "#10. append new layer \n",
    "\n",
    "layers.append(\"softmax\")\n",
    "print(layers)\n",
    "\n",
    "#11 get layer by index\n",
    "\n",
    "print(layers[0])"
   ]
  },
  {
   "cell_type": "code",
   "execution_count": 12,
   "id": "8bff4c00",
   "metadata": {},
   "outputs": [
    {
     "name": "stdout",
     "output_type": "stream",
     "text": [
      "(224, 224, 3)\n",
      "224 224\n"
     ]
    }
   ],
   "source": [
    "# 12. Input shape of an image (H, W, C)\n",
    "\n",
    "input_shape = (224,224,3)\n",
    "print(input_shape)\n",
    "\n",
    "#13 tuple unpacking \n",
    "\n",
    "height,width,channnels = input_shape\n",
    "print(height,width)"
   ]
  },
  {
   "cell_type": "code",
   "execution_count": 13,
   "id": "d6972ab8",
   "metadata": {},
   "outputs": [
    {
     "name": "stdout",
     "output_type": "stream",
     "text": [
      "{'lr': 0.001, 'epochs': 10, 'optimizer': 'adam'}\n",
      "adam\n"
     ]
    }
   ],
   "source": [
    "# 14. Model configuration\n",
    "config = {\n",
    "    \"lr\": 0.001,\n",
    "    \"epochs\": 10,\n",
    "    \"optimizer\": \"adam\"\n",
    "}\n",
    "print(config)\n",
    "\n",
    "# 15. Access dictionary values\n",
    "print(config[\"optimizer\"])\n"
   ]
  },
  {
   "cell_type": "code",
   "execution_count": null,
   "id": "1d0e785e",
   "metadata": {},
   "outputs": [
    {
     "name": "stdout",
     "output_type": "stream",
     "text": [
      "None\n",
      "dropout is disabled\n"
     ]
    }
   ],
   "source": [
    "#16\n",
    "dropout =None\n",
    "print(dropout)\n",
    "\n",
    "#17 check if none\n",
    "if dropout is None:\n",
    "    print(\"dropout is disabled\")\n",
    "    \n"
   ]
  },
  {
   "cell_type": "code",
   "execution_count": 19,
   "id": "e967480b",
   "metadata": {},
   "outputs": [
    {
     "name": "stdout",
     "output_type": "stream",
     "text": [
      "[0.001, 32, 'adam', True]\n",
      "<class 'float'>\n",
      "<class 'int'>\n",
      "<class 'str'>\n",
      "<class 'bool'>\n",
      "<class 'float'>\n",
      "<class 'str'>\n"
     ]
    }
   ],
   "source": [
    "#18 . mixed list of hyperparams\n",
    "hparams = [0.001,32,\"adam\",True]\n",
    "print(hparams)\n",
    "\n",
    "#19\n",
    "for parm in hparams:\n",
    "    print(type(parm))\n",
    "    \n",
    "#20\n",
    "lr =0.001\n",
    "lr_str = str(lr)\n",
    "print(type(lr))\n",
    "print(type(lr_str))\n"
   ]
  },
  {
   "cell_type": "markdown",
   "id": "a2dc1edb",
   "metadata": {},
   "source": [
    "🔁 Level 1: Data Types — 10 Logic-Building Tasks"
   ]
  },
  {
   "cell_type": "code",
   "execution_count": null,
   "id": "e33eae68",
   "metadata": {},
   "outputs": [
    {
     "name": "stdout",
     "output_type": "stream",
     "text": [
      "<class 'float'>\n",
      "<class 'str'>\n",
      "<class 'bool'>\n"
     ]
    }
   ],
   "source": [
    "#1\n",
    "lr = 0.001\n",
    "model_name = \"resnet\"\n",
    "train = True\n",
    "\n",
    "# Print type of each variable\n",
    "list = [lr,model_name,train]\n",
    "for parm in list:\n",
    "    print(type(parm))"
   ]
  },
  {
   "cell_type": "code",
   "execution_count": 23,
   "id": "335b9191",
   "metadata": {},
   "outputs": [
    {
     "name": "stdout",
     "output_type": "stream",
     "text": [
      "0.001\n",
      "not float type:  adam\n",
      "not float type:  32\n"
     ]
    }
   ],
   "source": [
    "#2 \n",
    "params = [0.001, \"adam\", 32]\n",
    "\n",
    "# Loop and print only float values\n",
    "for i in params:\n",
    "    if type(i)== float:\n",
    "        print(i)\n",
    "    else:\n",
    "        print(\"not float type: \",i)"
   ]
  },
  {
   "cell_type": "code",
   "execution_count": 24,
   "id": "55a9be06",
   "metadata": {},
   "outputs": [
    {
     "name": "stdout",
     "output_type": "stream",
     "text": [
      "droput is disabled\n"
     ]
    }
   ],
   "source": [
    "#3\n",
    "dropout = None\n",
    "\n",
    "# If dropout is None, print \"Dropout disabled\"\n",
    "if dropout is None:\n",
    "    print(\"droput is disabled\")"
   ]
  },
  {
   "cell_type": "code",
   "execution_count": 25,
   "id": "4e027450",
   "metadata": {},
   "outputs": [
    {
     "name": "stdout",
     "output_type": "stream",
     "text": [
      "adam\n"
     ]
    }
   ],
   "source": [
    "#4\n",
    "config = {\n",
    "    \"lr\": 0.001,\n",
    "    \"batch_size\": 64,\n",
    "    \"optimizer\": \"adam\"\n",
    "}\n",
    "\n",
    "# Print only the optimizer\n",
    "print(config[\"optimizer\"])"
   ]
  },
  {
   "cell_type": "code",
   "execution_count": 26,
   "id": "a0370279",
   "metadata": {},
   "outputs": [
    {
     "name": "stdout",
     "output_type": "stream",
     "text": [
      "none\n"
     ]
    }
   ],
   "source": [
    "#5 \n",
    "# Try to get \"scheduler\" from config, default to \"none\" if not found\n",
    "\n",
    "scheduler = config.get(\"scheduler\",\"none\")\n",
    "print(scheduler)"
   ]
  },
  {
   "cell_type": "code",
   "execution_count": 27,
   "id": "f3cb9657",
   "metadata": {},
   "outputs": [
    {
     "name": "stdout",
     "output_type": "stream",
     "text": [
      "false\n"
     ]
    }
   ],
   "source": [
    "#6\n",
    "activations = [\"relu\", \"tanh\", \"sigmoid\"]\n",
    "\n",
    "# Check if \"leaky_relu\" is in the list\n",
    "if \"leaky_relu\" in activations:\n",
    "    print(\"yes\")\n",
    "else:\n",
    "    print(\"false\")"
   ]
  },
  {
   "cell_type": "code",
   "execution_count": 28,
   "id": "bb59450c",
   "metadata": {},
   "outputs": [
    {
     "name": "stdout",
     "output_type": "stream",
     "text": [
      "height is 256,width is 256,channels are 3\n"
     ]
    }
   ],
   "source": [
    "#7\n",
    "img_shape = (256, 256, 3)\n",
    "\n",
    "# Unpack and print H, W, Channels\n",
    "H,W,Channels = img_shape\n",
    "print(f'height is {H},width is {W},channels are {channnels}')"
   ]
  },
  {
   "cell_type": "code",
   "execution_count": 29,
   "id": "d005b9a5",
   "metadata": {},
   "outputs": [
    {
     "name": "stdout",
     "output_type": "stream",
     "text": [
      "0.1\n"
     ]
    }
   ],
   "source": [
    "#8 \n",
    "# Convert a string learning rate to float and multiply by 10\n",
    "lr = \"0.01\"\n",
    "lr_float = float(lr)*10\n",
    "print(lr_float)\n",
    "\n"
   ]
  },
  {
   "cell_type": "code",
   "execution_count": null,
   "id": "146b89fd",
   "metadata": {},
   "outputs": [
    {
     "name": "stdout",
     "output_type": "stream",
     "text": [
      "adam\n",
      "sgd\n",
      "Total string elements: 2\n"
     ]
    }
   ],
   "source": [
    "#9\n",
    "elements = [0.01, \"adam\", True, \"sgd\", 128]\n",
    "total_strings = 0\n",
    "# Count number of string elements\n",
    "for i in elements:\n",
    "    if type(i) == str:\n",
    "        print(i)\n",
    "        total_strings += 1\n",
    "print(\"Total string elements:\", total_strings)"
   ]
  },
  {
   "cell_type": "code",
   "execution_count": 39,
   "id": "fc3fd2ef",
   "metadata": {},
   "outputs": [
    {
     "name": "stdout",
     "output_type": "stream",
     "text": [
      "{'lr': 0.02, 'epochs': 10, 'name': 'Model_A'}\n"
     ]
    }
   ],
   "source": [
    "#10\n",
    "config = {\n",
    "    \"lr\": 0.01,\n",
    "    \"epochs\": 10,\n",
    "    \"name\": \"Model_A\"\n",
    "}\n",
    "\n",
    "# Multiply float values by 2 (leave others unchanged)\n",
    "\n",
    "for key,value in config.items():\n",
    "    if type(value) == float:\n",
    "        config[key] = value*2\n",
    "        \n",
    "        \n",
    "print(config)\n",
    "        "
   ]
  },
  {
   "cell_type": "code",
   "execution_count": null,
   "id": "e240790f",
   "metadata": {},
   "outputs": [],
   "source": []
  }
 ],
 "metadata": {
  "kernelspec": {
   "display_name": "venv",
   "language": "python",
   "name": "python3"
  },
  "language_info": {
   "codemirror_mode": {
    "name": "ipython",
    "version": 3
   },
   "file_extension": ".py",
   "mimetype": "text/x-python",
   "name": "python",
   "nbconvert_exporter": "python",
   "pygments_lexer": "ipython3",
   "version": "3.12.0"
  }
 },
 "nbformat": 4,
 "nbformat_minor": 5
}
