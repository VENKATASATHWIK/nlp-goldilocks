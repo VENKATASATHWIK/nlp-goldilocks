{
 "cells": [
  {
   "cell_type": "code",
   "execution_count": 15,
   "id": "028e609e",
   "metadata": {},
   "outputs": [
    {
     "name": "stdout",
     "output_type": "stream",
     "text": [
      "['conv', 'relu', 'maxpool']\n",
      "modified layers:  ['conv', 'softmax', 'maxpool']\n"
     ]
    }
   ],
   "source": [
    "#1 creating a list of layers \n",
    "layers = [\"conv\",\"relu\",\"maxpool\"]\n",
    "print(layers)\n",
    "\n",
    "#2 accessing \n",
    "layers[0]\n",
    "\n",
    "#3 modifying \n",
    "layers[1] = \"softmax\"\n",
    "print(\"modified layers: \",layers)"
   ]
  },
  {
   "cell_type": "markdown",
   "id": "1da5f486",
   "metadata": {},
   "source": [
    "🔸 List Methods"
   ]
  },
  {
   "cell_type": "code",
   "execution_count": 16,
   "id": "bfaeb537",
   "metadata": {},
   "outputs": [
    {
     "name": "stdout",
     "output_type": "stream",
     "text": [
      "['conv', 'softmax', 'maxpool', 'fc']\n",
      "['softmax', 'maxpool', 'fc']\n",
      "popped:  fc\n"
     ]
    }
   ],
   "source": [
    "#4 append \n",
    "layers.append(\"fc\")\n",
    "print(layers)\n",
    "\n",
    "#5 remove a layer \n",
    "layers.remove(\"conv\")\n",
    "print(layers)\n",
    "\n",
    "#6 pop the last layer\n",
    "last = layers.pop()\n",
    "print(\"popped: \",last)\n",
    "\n",
    "\n",
    "\n",
    "\n",
    "\n"
   ]
  },
  {
   "cell_type": "code",
   "execution_count": 17,
   "id": "14b239d1",
   "metadata": {},
   "outputs": [
    {
     "name": "stdout",
     "output_type": "stream",
     "text": [
      "['input', 'output', 'softmax', 'maxpool']\n"
     ]
    }
   ],
   "source": [
    "#7 insert at specific position \n",
    "layers.insert(0,\"input\")\n",
    "layers.insert(1,\"output\")\n",
    "print(layers)"
   ]
  },
  {
   "cell_type": "markdown",
   "id": "3c107aee",
   "metadata": {},
   "source": [
    "🔸 Iterating Through Lists"
   ]
  },
  {
   "cell_type": "code",
   "execution_count": 18,
   "id": "c9140ecf",
   "metadata": {},
   "outputs": [
    {
     "name": "stdout",
     "output_type": "stream",
     "text": [
      "using layer:  input\n",
      "using layer:  output\n",
      "using layer:  softmax\n",
      "using layer:  maxpool\n"
     ]
    }
   ],
   "source": [
    "# 8 . loop through layers \n",
    "for layer in layers:\n",
    "    print(\"using layer: \",layer)\n",
    "    "
   ]
  },
  {
   "cell_type": "code",
   "execution_count": 19,
   "id": "fc45d637",
   "metadata": {},
   "outputs": [
    {
     "name": "stdout",
     "output_type": "stream",
     "text": [
      "Layer 1: input\n",
      "Layer 2: output\n",
      "Layer 3: softmax\n",
      "Layer 4: maxpool\n"
     ]
    }
   ],
   "source": [
    "#9. enumerate with index\n",
    "for i, layer in enumerate(layers):\n",
    "    print(f\"Layer {i+1}: {layer}\")"
   ]
  },
  {
   "cell_type": "code",
   "execution_count": 21,
   "id": "bd285408",
   "metadata": {},
   "outputs": [
    {
     "name": "stdout",
     "output_type": "stream",
     "text": [
      "4\n",
      "False\n"
     ]
    }
   ],
   "source": [
    "#10 length \n",
    "print(len(layers))\n",
    "\n",
    "#11 check if layer exists\n",
    "print(\"relu\" in layers)"
   ]
  },
  {
   "cell_type": "code",
   "execution_count": 22,
   "id": "71fd5a1a",
   "metadata": {},
   "outputs": [
    {
     "name": "stdout",
     "output_type": "stream",
     "text": [
      "['conv', 'relu', 'pool', 'fc']\n"
     ]
    }
   ],
   "source": [
    "#12 combine lists \n",
    "a = [\"conv\",\"relu\"]\n",
    "b = [\"pool\",\"fc\"]\n",
    "\n",
    "combined  = a+b\n",
    "\n",
    "print(combined)"
   ]
  },
  {
   "cell_type": "code",
   "execution_count": 27,
   "id": "c5fe53e3",
   "metadata": {},
   "outputs": [
    {
     "name": "stdout",
     "output_type": "stream",
     "text": [
      "['relu', 'pool', 'fc']\n",
      "['input', 'output', 'softmax']\n"
     ]
    }
   ],
   "source": [
    "#13 slicing layers \n",
    "\n",
    "print(combined[1:])\n",
    "print(layers[:3])"
   ]
  },
  {
   "cell_type": "code",
   "execution_count": 30,
   "id": "d6e83d77",
   "metadata": {},
   "outputs": [
    {
     "name": "stdout",
     "output_type": "stream",
     "text": [
      "['INPUT', 'OUTPUT', 'SOFTMAX', 'MAXPOOL']\n",
      "['Input', 'Output', 'Softmax', 'Maxpool']\n"
     ]
    }
   ],
   "source": [
    "#14 convert to uppercase using list comprehension \n",
    "upper_layers = [layer.upper() for layer in layers]\n",
    "print(upper_layers)\n",
    "\n",
    "capital_case = [layer.capitalize() for layer in layers]\n",
    "print(capital_case)"
   ]
  },
  {
   "cell_type": "code",
   "execution_count": 33,
   "id": "127ceeb7",
   "metadata": {},
   "outputs": [
    {
     "name": "stdout",
     "output_type": "stream",
     "text": [
      "[0.01, 'adam', 64, True]\n",
      "3\n",
      "[1, 2]\n"
     ]
    }
   ],
   "source": [
    "#15 list with mixed types \n",
    "params  = [0.01,\"adam\",64,True]\n",
    "print(params)\n",
    "\n",
    "#16 access nested lsit \n",
    "batch = [[1,2],[3,4],[5,6]]\n",
    "print(batch[1][0])\n",
    "print(batch[0])"
   ]
  },
  {
   "cell_type": "code",
   "execution_count": 35,
   "id": "109089d5",
   "metadata": {},
   "outputs": [
    {
     "name": "stdout",
     "output_type": "stream",
     "text": [
      "['input', 'output', 'softmax', 'maxpool']\n",
      "None\n"
     ]
    }
   ],
   "source": [
    "# 17. Copy a list\n",
    "copy_layers = layers.copy()\n",
    "print(copy_layers)\n",
    "\n",
    "\n",
    "#18 clear the list \n",
    "list_clear = layers.clear()\n",
    "print(list_clear)\n"
   ]
  },
  {
   "cell_type": "markdown",
   "id": "23a3bada",
   "metadata": {},
   "source": [
    "🔸 Sorting & Reversing"
   ]
  },
  {
   "cell_type": "code",
   "execution_count": 39,
   "id": "170a0e09",
   "metadata": {},
   "outputs": [
    {
     "name": "stdout",
     "output_type": "stream",
     "text": [
      "[0.28, 0.32, 0.45]\n",
      "[0.45, 0.32, 0.28]\n"
     ]
    }
   ],
   "source": [
    "#19 sort a list of scores \n",
    "losses = [0.32,0.28,0.45]\n",
    "losses.sort()\n",
    "print(losses)\n",
    "\n",
    "#20 reverse it \n",
    "losses.reverse()\n",
    "print(losses) "
   ]
  },
  {
   "cell_type": "markdown",
   "id": "05e9f43d",
   "metadata": {},
   "source": [
    "✅ Level 1: Lists – 10 Logic-Building Tasks"
   ]
  },
  {
   "cell_type": "code",
   "execution_count": null,
   "id": "4ebaccc7",
   "metadata": {},
   "outputs": [
    {
     "data": {
      "text/plain": [
       "['accuracy', 'precision', 'recall']"
      ]
     },
     "execution_count": 41,
     "metadata": {},
     "output_type": "execute_result"
    }
   ],
   "source": [
    "#1  Add a new metric to the metrics list\n",
    "metrics = [\"accuracy\", \"precision\"]\n",
    "\n",
    "# Add \"recall\" to the list\n",
    "metrics.append(\"recall\")\n",
    "metrics \n"
   ]
  },
  {
   "cell_type": "code",
   "execution_count": 42,
   "id": "eab551ff",
   "metadata": {},
   "outputs": [
    {
     "name": "stdout",
     "output_type": "stream",
     "text": [
      "relu\n",
      "tanh\n",
      "sigmoid\n"
     ]
    }
   ],
   "source": [
    "#2 🔹 Task 2: Print each activation function in the list using a loop\n",
    "\n",
    "activations = [\"relu\", \"tanh\", \"sigmoid\"]\n",
    "\n",
    "# Use a for loop to print each activation\n",
    "\n",
    "for layer in activations:\n",
    "    print(layer)\n"
   ]
  },
  {
   "cell_type": "code",
   "execution_count": 46,
   "id": "06d2c46d",
   "metadata": {},
   "outputs": [
    {
     "name": "stdout",
     "output_type": "stream",
     "text": [
      "['conv', 'leaky_relu', 'pool']\n"
     ]
    }
   ],
   "source": [
    "#3 \n",
    "layers_1 = [\"conv\", \"relu\", \"pool\"]\n",
    "\n",
    "# Replace \"relu\" with \"leaky_relu\"\n",
    "\n",
    "index = layers_1.index(\"relu\")\n",
    "layers_1[index] = \"leaky_relu\"\n",
    "print(layers_1)\n"
   ]
  },
  {
   "cell_type": "code",
   "execution_count": 48,
   "id": "286a8741",
   "metadata": {},
   "outputs": [
    {
     "data": {
      "text/plain": [
       "2"
      ]
     },
     "execution_count": 48,
     "metadata": {},
     "output_type": "execute_result"
    }
   ],
   "source": [
    "#4 \n",
    "layers_2 = [\"dropout\", \"conv\", \"dropout\", \"fc\"]\n",
    "\n",
    "# Count how many \"dropout\"\n",
    "layers_2.count(\"dropout\")\n"
   ]
  },
  {
   "cell_type": "code",
   "execution_count": 52,
   "id": "9d8facaf",
   "metadata": {},
   "outputs": [
    {
     "name": "stdout",
     "output_type": "stream",
     "text": [
      "['conv', 'cnn']\n"
     ]
    }
   ],
   "source": [
    "#5\n",
    "layers_3 = [\"conv\", \"relu\", \"pool\", \"cnn\", \"fc\"]\n",
    "\n",
    "# Print layers starting with 'c'\n",
    "\n",
    "\n",
    "\n",
    "f = [layer for layer in layers_3 if layer.startswith(\"c\")]\n",
    "print(f)"
   ]
  },
  {
   "cell_type": "code",
   "execution_count": 53,
   "id": "5709b873",
   "metadata": {},
   "outputs": [
    {
     "name": "stdout",
     "output_type": "stream",
     "text": [
      "['lr', 'batch_size', 'epochs', 'optimizer']\n"
     ]
    }
   ],
   "source": [
    "#6\n",
    "h1 = [\"lr\", \"batch_size\"]\n",
    "h2 = [\"epochs\", \"optimizer\"]\n",
    "\n",
    "# Combine them into one list\n",
    "h3 = h1+h2\n",
    "print(h3)"
   ]
  },
  {
   "cell_type": "code",
   "execution_count": 55,
   "id": "d90b05df",
   "metadata": {},
   "outputs": [
    {
     "name": "stdout",
     "output_type": "stream",
     "text": [
      "[0.001, 0.01, 0.1]\n"
     ]
    }
   ],
   "source": [
    "#7\n",
    "lrs = [0.1, 0.01, 0.001]\n",
    "\n",
    "# Reverse the list\n",
    "lrs.reverse()\n",
    "print(lrs)"
   ]
  },
  {
   "cell_type": "code",
   "execution_count": 56,
   "id": "e2f829e6",
   "metadata": {},
   "outputs": [
    {
     "name": "stdout",
     "output_type": "stream",
     "text": [
      "indx of adam is:  2\n"
     ]
    }
   ],
   "source": [
    "#8\n",
    "optimizers = [\"sgd\", \"rmsprop\", \"adam\", \"nadam\"]\n",
    "\n",
    "# Find index of \"adam\"\n",
    "index = optimizers.index(\"adam\")\n",
    "print(\"indx of adam is: \",index)\n"
   ]
  },
  {
   "cell_type": "code",
   "execution_count": 58,
   "id": "db72dca9",
   "metadata": {},
   "outputs": [
    {
     "data": {
      "text/plain": [
       "[0.3, 0.25, 0.4]"
      ]
     },
     "execution_count": 58,
     "metadata": {},
     "output_type": "execute_result"
    }
   ],
   "source": [
    "#9 \n",
    "losses = [0.3, 0.25, 0.1, 0.4, 0.15]\n",
    "\n",
    "# Print values > 0.2\n",
    "\n",
    "[loss for loss  in losses if loss>0.2]\n"
   ]
  },
  {
   "cell_type": "code",
   "execution_count": 60,
   "id": "21a3cd70",
   "metadata": {},
   "outputs": [
    {
     "name": "stdout",
     "output_type": "stream",
     "text": [
      "[4, 16, 36, 64]\n"
     ]
    }
   ],
   "source": [
    "#10 \n",
    "values = [2, 4, 6, 8]\n",
    "\n",
    "# Output: [4, 16, 36, 64]\n",
    "\n",
    "squared_lsit =[value**2 for value in values]\n",
    "print(squared_lsit)"
   ]
  },
  {
   "cell_type": "code",
   "execution_count": null,
   "id": "50b356bc",
   "metadata": {},
   "outputs": [],
   "source": []
  }
 ],
 "metadata": {
  "kernelspec": {
   "display_name": "venv",
   "language": "python",
   "name": "python3"
  },
  "language_info": {
   "codemirror_mode": {
    "name": "ipython",
    "version": 3
   },
   "file_extension": ".py",
   "mimetype": "text/x-python",
   "name": "python",
   "nbconvert_exporter": "python",
   "pygments_lexer": "ipython3",
   "version": "3.12.0"
  }
 },
 "nbformat": 4,
 "nbformat_minor": 5
}
