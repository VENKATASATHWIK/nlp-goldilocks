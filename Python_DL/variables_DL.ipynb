{
 "cells": [
  {
   "cell_type": "markdown",
   "id": "46e1d1f2",
   "metadata": {},
   "source": [
    "🔹 Level 0 – Python Variables (20 Examples)"
   ]
  },
  {
   "cell_type": "code",
   "execution_count": 2,
   "id": "7b1d6e0f",
   "metadata": {},
   "outputs": [
    {
     "name": "stdout",
     "output_type": "stream",
     "text": [
      "50\n",
      "0.001\n",
      "relu\n",
      "True\n",
      "32 4\n"
     ]
    }
   ],
   "source": [
    "# 1. Assigning integer\n",
    "epochs = 50\n",
    "print(epochs)\n",
    "\n",
    "# 2. Assigning float\n",
    "learning_rate = 0.001\n",
    "print(learning_rate)\n",
    "\n",
    "# 3. String variable\n",
    "activation = 'relu'\n",
    "print(activation)\n",
    "\n",
    "# 4. Boolean\n",
    "use_dropout = True\n",
    "print(use_dropout)\n",
    "\n",
    "# 5. Multiple assignment\n",
    "batch_size, num_layers = 32, 4\n",
    "print(batch_size, num_layers)\n",
    "\n"
   ]
  },
  {
   "cell_type": "code",
   "execution_count": 3,
   "id": "191a07da",
   "metadata": {},
   "outputs": [
    {
     "name": "stdout",
     "output_type": "stream",
     "text": [
      "0.01\n",
      "60\n",
      "10 5\n"
     ]
    }
   ],
   "source": [
    "# 6. Reassigning a variable\n",
    "learning_rate = 0.01\n",
    "print(learning_rate)\n",
    "\n",
    "# 7. Incremental update\n",
    "epochs += 10\n",
    "print(epochs)\n",
    "\n",
    "# 8. Swapping variables\n",
    "a, b = 5, 10\n",
    "a, b = b, a\n",
    "print(a, b)\n"
   ]
  },
  {
   "cell_type": "code",
   "execution_count": 5,
   "id": "1f410968",
   "metadata": {},
   "outputs": [
    {
     "name": "stdout",
     "output_type": "stream",
     "text": [
      "6000\n",
      "0.5\n"
     ]
    }
   ],
   "source": [
    "# 🔸 Combining with Expressions\n",
    "\n",
    "# 9. Compute total steps\n",
    "steps_per_epoch = 100\n",
    "total_steps  = steps_per_epoch*epochs\n",
    "print(total_steps)\n",
    "\n",
    "# 10. Formula example\n",
    "drop_out = 0.5\n",
    "keep_prob = 1-drop_out\n",
    "print(keep_prob)"
   ]
  },
  {
   "cell_type": "code",
   "execution_count": null,
   "id": "b5db59b9",
   "metadata": {},
   "outputs": [
    {
     "name": "stdout",
     "output_type": "stream",
     "text": [
      "<class 'float'>\n",
      "trained\n"
     ]
    }
   ],
   "source": [
    "# 🔸 With Data Types\n",
    "#11\n",
    "print(type(learning_rate))\n",
    "\n",
    "# 12. Converting string to float\n",
    "lr_str = \"0.001\"\n",
    "lr_float = float(lr_str)\n",
    "\n",
    "lr_float\n",
    "\n",
    "# 13.Boolean logic \n",
    "\n",
    "model_trained = True\n",
    "if not model_trained:\n",
    "    print(\"train it !!\")\n",
    "else: \n",
    "    print(\"trained\") \n"
   ]
  },
  {
   "cell_type": "code",
   "execution_count": 8,
   "id": "9123a011",
   "metadata": {},
   "outputs": [
    {
     "name": "stdout",
     "output_type": "stream",
     "text": [
      "Running epoch: 1\n",
      "Running epoch: 2\n",
      "Running epoch: 3\n",
      "224\n"
     ]
    }
   ],
   "source": [
    "# 14. Variable inside loop\n",
    "for epoch in range(1, 4):\n",
    "    print(\"Running epoch:\", epoch)\n",
    "    \n",
    " # 15. Sum of batch sizes\n",
    "batch_sizes = [32, 64, 128]\n",
    "total_batch = sum(batch_sizes)\n",
    "print(total_batch)   "
   ]
  },
  {
   "cell_type": "code",
   "execution_count": 11,
   "id": "02912a59",
   "metadata": {},
   "outputs": [
    {
     "name": "stdout",
     "output_type": "stream",
     "text": [
      "{'lr': 0.001, 'optimizer': 'adam', 'dropout': 0.3}\n",
      "{'lr': 0.001, 'optimizer': 'SGD', 'dropout': 0.3}\n"
     ]
    }
   ],
   "source": [
    "#16\n",
    "config = {\n",
    "    \"lr\":0.001,\n",
    "    \"optimizer\":\"adam\",\n",
    "    \"dropout\":0.3\n",
    "}\n",
    "print(config)\n",
    "\n",
    "#17 change config dynamically \n",
    "\n",
    "config[\"optimizer\"] = \"SGD\"\n",
    "\n",
    "print(config)"
   ]
  },
  {
   "cell_type": "code",
   "execution_count": 12,
   "id": "d29bbc1e",
   "metadata": {},
   "outputs": [
    {
     "name": "stdout",
     "output_type": "stream",
     "text": [
      "3.1416\n",
      "64 64\n"
     ]
    }
   ],
   "source": [
    "# 18. Constant by naming convention\n",
    "PI = 3.1416\n",
    "print(PI)\n",
    "\n",
    "# 19. Snake_case vs camelCase\n",
    "batch_size = 64\n",
    "batchSize = 64  # Avoid in Python\n",
    "print(batch_size, batchSize)\n"
   ]
  },
  {
   "cell_type": "code",
   "execution_count": 13,
   "id": "86dd3fe7",
   "metadata": {},
   "outputs": [
    {
     "name": "stdout",
     "output_type": "stream",
     "text": [
      "Selected dataset: MNIST\n"
     ]
    }
   ],
   "source": [
    "# 20. User-defined variable (simulated)\n",
    "dataset = \"MNIST\"\n",
    "print(\"Selected dataset:\", dataset)\n"
   ]
  },
  {
   "cell_type": "markdown",
   "id": "a20cbabd",
   "metadata": {},
   "source": [
    "✅ Level 1: Python Variables – 10 Logic Tasks"
   ]
  },
  {
   "cell_type": "code",
   "execution_count": 14,
   "id": "30ed6582",
   "metadata": {},
   "outputs": [
    {
     "name": "stdout",
     "output_type": "stream",
     "text": [
      "before swapping:  7 14\n",
      "after swapping:  14 7\n"
     ]
    }
   ],
   "source": [
    "# Task 1 :\n",
    "a=7\n",
    "b=14\n",
    "print(\"before swapping: \",a,b)\n",
    "a,b = b,a \n",
    "print(\"after swapping: \",a,b)\n",
    "\n"
   ]
  },
  {
   "cell_type": "code",
   "execution_count": 15,
   "id": "a9e6c759",
   "metadata": {},
   "outputs": [
    {
     "data": {
      "text/plain": [
       "1000"
      ]
     },
     "execution_count": 15,
     "metadata": {},
     "output_type": "execute_result"
    }
   ],
   "source": [
    "#task 2:\n",
    "epochs = 10\n",
    "steps_per_epoch = 100\n",
    "\n",
    "total_iterations = steps_per_epoch *epochs\n",
    "total_iterations\n"
   ]
  },
  {
   "cell_type": "code",
   "execution_count": null,
   "id": "bc0f91ba",
   "metadata": {},
   "outputs": [
    {
     "name": "stdout",
     "output_type": "stream",
     "text": [
      "for epoch 1 accuracy is 0.76\n",
      "for epoch 2 accuracy is 0.77\n",
      "for epoch 3 accuracy is 0.78\n",
      "for epoch 4 accuracy is 0.79\n",
      "for epoch 5 accuracy is 0.8\n"
     ]
    }
   ],
   "source": [
    "#task 3: \n",
    "accuracy = 0.75\n",
    "improvement = 0.01\n",
    "# Print accuracy for next 5 epochs (incremental)\n",
    "\n",
    "\n",
    "\n",
    "for epoch in range(1,6):\n",
    "    accuracy +=improvement\n",
    "    print(f'for epoch {epoch} accuracy is {accuracy}')"
   ]
  },
  {
   "cell_type": "code",
   "execution_count": 19,
   "id": "d08df3fc",
   "metadata": {},
   "outputs": [
    {
     "name": "stdout",
     "output_type": "stream",
     "text": [
      "Model CNN has 5 and 12000 parameters\n"
     ]
    }
   ],
   "source": [
    "#task 4 :\n",
    "model_name = \"CNN\"\n",
    "layers = 5\n",
    "params = 12000\n",
    "# Output: \"Model CNN has 5 layers and 12000 parameters\"\n",
    "\n",
    "print(f'Model {model_name} has {layers} and {params} parameters')\n",
    "\n"
   ]
  },
  {
   "cell_type": "code",
   "execution_count": 20,
   "id": "021b7fa7",
   "metadata": {},
   "outputs": [
    {
     "name": "stdout",
     "output_type": "stream",
     "text": [
      "begin training\n"
     ]
    }
   ],
   "source": [
    "# 🔹 Task 5: Conditional training print\n",
    "\n",
    "trained = False\n",
    "\n",
    "if not trained:\n",
    "    print(\"begin training\")"
   ]
  },
  {
   "cell_type": "code",
   "execution_count": 21,
   "id": "d5ce871b",
   "metadata": {},
   "outputs": [
    {
     "name": "stdout",
     "output_type": "stream",
     "text": [
      "learning rate :  0.01\n"
     ]
    }
   ],
   "source": [
    "# 🔹 Task 6: Hyperparameter update with logic\n",
    "\n",
    "lr = 0.001\n",
    "if lr<0.01:\n",
    "    lr *=10\n",
    "    print(\"learning rate : \",lr)"
   ]
  },
  {
   "cell_type": "code",
   "execution_count": 22,
   "id": "88637e75",
   "metadata": {},
   "outputs": [
    {
     "data": {
      "text/plain": [
       "32"
      ]
     },
     "execution_count": 22,
     "metadata": {},
     "output_type": "execute_result"
    }
   ],
   "source": [
    "#🔹 Task 7: Extract info from a config dictionary\n",
    "config = {\n",
    "    \"lr\": 0.001,\n",
    "    \"batch_size\": 32,\n",
    "    \"dropout\": 0.3\n",
    "}\n",
    "# Print only the batch size\n",
    "\n",
    "config[\"batch_size\"]\n"
   ]
  },
  {
   "cell_type": "code",
   "execution_count": 24,
   "id": "6b63c6b0",
   "metadata": {},
   "outputs": [
    {
     "name": "stdout",
     "output_type": "stream",
     "text": [
      "Epoch 1 completed\n",
      "Epoch 2 completed\n",
      "Epoch 3 completed\n"
     ]
    }
   ],
   "source": [
    "#🔹 Task 8: Use a variable inside a loop\n",
    "\n",
    "for i in range(1,4):\n",
    "    print(f'Epoch {i} completed')"
   ]
  },
  {
   "cell_type": "code",
   "execution_count": 25,
   "id": "e8accfb0",
   "metadata": {},
   "outputs": [
    {
     "name": "stdout",
     "output_type": "stream",
     "text": [
      "momentum\n"
     ]
    }
   ],
   "source": [
    "try:\n",
    "    print(\"momentum\")\n",
    "except NameError:\n",
    "    print(\"not defined\")"
   ]
  },
  {
   "cell_type": "code",
   "execution_count": 30,
   "id": "2394d840",
   "metadata": {},
   "outputs": [
    {
     "name": "stdout",
     "output_type": "stream",
     "text": [
      "{'lr': 0.01, 'batch_size': 64, 'optimizer': 'adam'}\n"
     ]
    }
   ],
   "source": [
    "config_1  ={\n",
    "    \n",
    "    \"lr\" : 0.01,\n",
    "    \"batch_size\" : 64,\n",
    "    \"optimizer\" : \"adam\"\n",
    "    }\n",
    "print(config_1)"
   ]
  },
  {
   "cell_type": "code",
   "execution_count": 31,
   "id": "3f119e1a",
   "metadata": {},
   "outputs": [
    {
     "name": "stdout",
     "output_type": "stream",
     "text": [
      "[LR: 0.01 | Batch Size: 64 | Optimizer: adam]\n"
     ]
    }
   ],
   "source": [
    "def format_hyperparametrs(lr,batch_size,optimizer):\n",
    "    return f\"[LR: {lr} | Batch Size: {batch_size} | Optimizer: {optimizer}]\"\n",
    "\n",
    "result = format_hyperparametrs(0.01,64,\"adam\")\n",
    "print(result)"
   ]
  },
  {
   "cell_type": "code",
   "execution_count": null,
   "id": "01175b32",
   "metadata": {},
   "outputs": [],
   "source": []
  },
  {
   "cell_type": "code",
   "execution_count": null,
   "id": "6494afa5",
   "metadata": {},
   "outputs": [],
   "source": []
  },
  {
   "cell_type": "code",
   "execution_count": null,
   "id": "a44358d8",
   "metadata": {},
   "outputs": [],
   "source": []
  },
  {
   "cell_type": "code",
   "execution_count": null,
   "id": "783636b5",
   "metadata": {},
   "outputs": [],
   "source": []
  },
  {
   "cell_type": "code",
   "execution_count": null,
   "id": "6f3ad77c",
   "metadata": {},
   "outputs": [],
   "source": []
  }
 ],
 "metadata": {
  "kernelspec": {
   "display_name": "venv",
   "language": "python",
   "name": "python3"
  },
  "language_info": {
   "codemirror_mode": {
    "name": "ipython",
    "version": 3
   },
   "file_extension": ".py",
   "mimetype": "text/x-python",
   "name": "python",
   "nbconvert_exporter": "python",
   "pygments_lexer": "ipython3",
   "version": "3.12.0"
  }
 },
 "nbformat": 4,
 "nbformat_minor": 5
}
