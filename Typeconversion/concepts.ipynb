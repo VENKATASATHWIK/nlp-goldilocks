{
 "cells": [
  {
   "cell_type": "code",
   "execution_count": null,
   "id": "e50aedcd",
   "metadata": {},
   "outputs": [
    {
     "name": "stdout",
     "output_type": "stream",
     "text": [
      "sathvik 21\n"
     ]
    }
   ],
   "source": [
    "#1\n",
    "name = \"sathvik\"\n",
    "age = 21\n",
    "print(name, age)"
   ]
  },
  {
   "cell_type": "code",
   "execution_count": 2,
   "id": "b9a06451",
   "metadata": {},
   "outputs": [
    {
     "name": "stdout",
     "output_type": "stream",
     "text": [
      "now i am string\n"
     ]
    }
   ],
   "source": [
    "#2\n",
    "x = 10\n",
    "x = \"now i am string\"\n",
    "print(x)\n"
   ]
  },
  {
   "cell_type": "code",
   "execution_count": 3,
   "id": "cc528780",
   "metadata": {},
   "outputs": [
    {
     "name": "stdout",
     "output_type": "stream",
     "text": [
      "5 3.2 NLP\n"
     ]
    }
   ],
   "source": [
    "#3\n",
    "a,b,c = 5,3.2,\"NLP\"\n",
    "print(a,b,c)"
   ]
  },
  {
   "cell_type": "code",
   "execution_count": 4,
   "id": "6c9b2ecc",
   "metadata": {},
   "outputs": [
    {
     "name": "stdout",
     "output_type": "stream",
     "text": [
      "<class 'int'> <class 'float'> <class 'str'>\n"
     ]
    }
   ],
   "source": [
    "#4\n",
    "print(type(a),type(b),type(c))\n"
   ]
  },
  {
   "cell_type": "code",
   "execution_count": 5,
   "id": "b36b244c",
   "metadata": {},
   "outputs": [
    {
     "name": "stdout",
     "output_type": "stream",
     "text": [
      "5.0\n",
      "3\n"
     ]
    }
   ],
   "source": [
    "#5\n",
    "x =5\n",
    "print(float(x))\n",
    "y = 3.9\n",
    "print(int(y))"
   ]
  },
  {
   "cell_type": "code",
   "execution_count": 8,
   "id": "38144355",
   "metadata": {},
   "outputs": [
    {
     "name": "stdout",
     "output_type": "stream",
     "text": [
      "123\n"
     ]
    }
   ],
   "source": [
    "#6\n",
    "valid_sr = \"123\"\n",
    "print(int(valid_sr))\n",
    "\n",
    "#invalid_sr = \"12a\"\n"
   ]
  },
  {
   "cell_type": "code",
   "execution_count": 9,
   "id": "0ab799aa",
   "metadata": {},
   "outputs": [
    {
     "name": "stdout",
     "output_type": "stream",
     "text": [
      "number is: 45\n"
     ]
    }
   ],
   "source": [
    "#7\n",
    "num = 45\n",
    "print(\"number is: \"+ str(num))"
   ]
  },
  {
   "cell_type": "code",
   "execution_count": null,
   "id": "6fd3fd35",
   "metadata": {},
   "outputs": [
    {
     "name": "stdout",
     "output_type": "stream",
     "text": [
      "True <class 'bool'>\n"
     ]
    }
   ],
   "source": [
    "#8\n",
    "flag = True\n",
    "print(flag,type(flag))"
   ]
  },
  {
   "cell_type": "code",
   "execution_count": 11,
   "id": "e82f3851",
   "metadata": {},
   "outputs": [
    {
     "name": "stdout",
     "output_type": "stream",
     "text": [
      "8.2 <class 'float'>\n"
     ]
    }
   ],
   "source": [
    "#  9. Implicit Type Conversion\n",
    "\n",
    "result = 5 + 3.2\n",
    "print(result,type(result))\n"
   ]
  },
  {
   "cell_type": "code",
   "execution_count": 13,
   "id": "d666f0b3",
   "metadata": {},
   "outputs": [
    {
     "name": "stdout",
     "output_type": "stream",
     "text": [
      "hello sathvik, you are 24 years old.\n"
     ]
    }
   ],
   "source": [
    " #✅ 10. Use type hints (Python 3.5+)\n",
    " \n",
    "def greet(name:str,age:int):\n",
    "    return f\"hello {name}, you are {age} years old.\"\n",
    " \n",
    " \n",
    "print(greet(\"sathvik\",24))"
   ]
  },
  {
   "cell_type": "code",
   "execution_count": null,
   "id": "634f4f8a",
   "metadata": {},
   "outputs": [],
   "source": []
  }
 ],
 "metadata": {
  "kernelspec": {
   "display_name": "venv",
   "language": "python",
   "name": "python3"
  },
  "language_info": {
   "codemirror_mode": {
    "name": "ipython",
    "version": 3
   },
   "file_extension": ".py",
   "mimetype": "text/x-python",
   "name": "python",
   "nbconvert_exporter": "python",
   "pygments_lexer": "ipython3",
   "version": "3.12.0"
  }
 },
 "nbformat": 4,
 "nbformat_minor": 5
}
