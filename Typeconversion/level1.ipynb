{
 "cells": [
  {
   "cell_type": "code",
   "execution_count": 1,
   "id": "f7da01fb",
   "metadata": {},
   "outputs": [
    {
     "name": "stdout",
     "output_type": "stream",
     "text": [
      "name is sathvik and age of this guy is 24\n"
     ]
    }
   ],
   "source": [
    "# Task 1: Assign your name and age to variables and print them together in a sentence.\n",
    "name = \"sathvik\"\n",
    "age = 24\n",
    "print(f\"name is {name} and age of this guy is {age}\")"
   ]
  },
  {
   "cell_type": "code",
   "execution_count": 2,
   "id": "00b52cf7",
   "metadata": {},
   "outputs": [
    {
     "name": "stdout",
     "output_type": "stream",
     "text": [
      "<class 'int'>\n",
      "<class 'float'>\n"
     ]
    }
   ],
   "source": [
    "# Task 2: Reassign a float value to an integer variable and print its new type.\n",
    "var_i = 34\n",
    "print(type(var_i))\n",
    "var_i = 4.5\n",
    "print(type(var_i))"
   ]
  },
  {
   "cell_type": "code",
   "execution_count": 6,
   "id": "59bacaab",
   "metadata": {},
   "outputs": [
    {
     "name": "stdout",
     "output_type": "stream",
     "text": [
      "4 3.4 True\n"
     ]
    }
   ],
   "source": [
    "# Task 3: Assign three variables of different types in one line and print them.\n",
    "a,b,c = 4,3.4,True\n",
    "print(a,b,c)"
   ]
  },
  {
   "cell_type": "code",
   "execution_count": 10,
   "id": "e7ef4364",
   "metadata": {},
   "outputs": [
    {
     "data": {
      "text/plain": [
       "1340"
      ]
     },
     "execution_count": 10,
     "metadata": {},
     "output_type": "execute_result"
    }
   ],
   "source": [
    "# Task 4: Convert a string number to int, multiply it by 10, and print the result.\n",
    "string_num= \"134\"\n",
    "real_num = int(string_num)\n",
    "result = real_num*10\n",
    "result"
   ]
  },
  {
   "cell_type": "code",
   "execution_count": 12,
   "id": "655f9afc",
   "metadata": {},
   "outputs": [
    {
     "name": "stdout",
     "output_type": "stream",
     "text": [
      "34\n",
      "<class 'str'>\n"
     ]
    }
   ],
   "source": [
    "# Task 5: Create a variable, convert it to a string, and print its type.\n",
    "var = 34\n",
    "conver = str(var)\n",
    "print(conver)\n",
    "print(type(conver))"
   ]
  },
  {
   "cell_type": "code",
   "execution_count": null,
   "id": "f4123206",
   "metadata": {},
   "outputs": [],
   "source": []
  },
  {
   "cell_type": "code",
   "execution_count": null,
   "id": "5c342d47",
   "metadata": {},
   "outputs": [],
   "source": []
  }
 ],
 "metadata": {
  "kernelspec": {
   "display_name": "venv",
   "language": "python",
   "name": "python3"
  },
  "language_info": {
   "codemirror_mode": {
    "name": "ipython",
    "version": 3
   },
   "file_extension": ".py",
   "mimetype": "text/x-python",
   "name": "python",
   "nbconvert_exporter": "python",
   "pygments_lexer": "ipython3",
   "version": "3.12.0"
  }
 },
 "nbformat": 4,
 "nbformat_minor": 5
}
