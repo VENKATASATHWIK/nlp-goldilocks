{
 "cells": [
  {
   "cell_type": "code",
   "execution_count": 1,
   "id": "ef43d112",
   "metadata": {},
   "outputs": [
    {
     "name": "stdout",
     "output_type": "stream",
     "text": [
      "7.0\n"
     ]
    }
   ],
   "source": [
    "# Task 1: Ask the user for two numbers, convert them to float, and print their sum.\n",
    "a = int(input(\"enter a's integer: \"))\n",
    "b = int(input(\"enter b's integer: \"))\n",
    "a_f = float(a)\n",
    "b_f = float(b)\n",
    "sum = a_f + b_f\n",
    "print(sum)"
   ]
  },
  {
   "cell_type": "code",
   "execution_count": 2,
   "metadata": {},
   "outputs": [
    {
     "name": "stdout",
     "output_type": "stream",
     "text": [
      "the numbers are 3,4 and their product is 12\n"
     ]
    }
   ],
   "source": [
    "# Task 2: Define a function with type hints that takes two strings, converts them to integers, and returns their product.\n",
    "def multiply(name:str,name_2:str):\n",
    "    num1 = int(name)\n",
    "    num2 = int(name_2)\n",
    "    product = num1*num2\n",
    "    return f\"the numbers are {num1},{num2} and their product is {product}\"\n",
    "\n",
    "\n",
    "print(multiply(\"3\",\"4\"))    "
   ]
  },
  {
   "cell_type": "code",
   "execution_count": 3,
   "metadata": {},
   "outputs": [
    {
     "name": "stdout",
     "output_type": "stream",
     "text": [
      "<class 'str'>\n",
      "<class 'int'>\n",
      "<class 'float'>\n",
      "<class 'bool'>\n"
     ]
    }
   ],
   "source": [
    "# Task 3: Check and print the data type of each element in a list: [\"10\", 10, 10.5, True]\n",
    "list = [\"10\", 10, 10.5, True]\n",
    "\n",
    "for i in list:\n",
    "    print(type(i))\n"
   ]
  },
  {
   "cell_type": "code",
   "execution_count": 5,
   "id": "69a02d5a",
   "metadata": {},
   "outputs": [
    {
     "name": "stdout",
     "output_type": "stream",
     "text": [
      "sathvik is 24\n"
     ]
    }
   ],
   "source": [
    "# Task 4: Use type conversion to concatenate a number and a string into one sentence.\n",
    "name = \"sathvik\"\n",
    "age = \"24\"\n",
    "\n",
    "age_int = int(age)\n",
    "\n",
    "age_str = str(age_int)\n",
    "print(name+' ' +\"is\"+' '+ age_str)"
   ]
  },
  {
   "cell_type": "code",
   "execution_count": 7,
   "id": "b6786945",
   "metadata": {},
   "outputs": [
    {
     "name": "stdout",
     "output_type": "stream",
     "text": [
      "the final value is 34,and the type of this is <class 'str'>\n"
     ]
    }
   ],
   "source": [
    "# Task 5: Convert a float to int, then back to string, and print the final value and its type.\n",
    "\n",
    "float_var = 34.57\n",
    "int_var = int(float_var)\n",
    "str_var = str(int_var)\n",
    "\n",
    "print(f'the final value is {str_var},and the type of this is {type(str_var)}')"
   ]
  },
  {
   "cell_type": "code",
   "execution_count": null,
   "id": "3dca1585",
   "metadata": {},
   "outputs": [],
   "source": []
  },
  {
   "cell_type": "code",
   "execution_count": null,
   "id": "7811f3b2",
   "metadata": {},
   "outputs": [],
   "source": []
  },
  {
   "cell_type": "code",
   "execution_count": null,
   "id": "5656e3c1",
   "metadata": {},
   "outputs": [],
   "source": []
  },
  {
   "cell_type": "code",
   "execution_count": null,
   "id": "92ce775e",
   "metadata": {},
   "outputs": [],
   "source": []
  }
 ],
 "metadata": {
  "kernelspec": {
   "display_name": "venv",
   "language": "python",
   "name": "python3"
  },
  "language_info": {
   "codemirror_mode": {
    "name": "ipython",
    "version": 3
   },
   "file_extension": ".py",
   "mimetype": "text/x-python",
   "name": "python",
   "nbconvert_exporter": "python",
   "pygments_lexer": "ipython3",
   "version": "3.12.0"
  }
 },
 "nbformat": 4,
 "nbformat_minor": 5
}
