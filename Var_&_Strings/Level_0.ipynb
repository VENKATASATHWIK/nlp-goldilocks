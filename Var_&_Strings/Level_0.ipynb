{
 "cells": [
  {
   "cell_type": "code",
   "execution_count": null,
   "id": "43c565a2",
   "metadata": {},
   "outputs": [],
   "source": [
    "# 📘 Core Python for NLP: Topic 1 - Variables, Data Types & Strings\n",
    "#1\n",
    "sentence = \"Natural Language Processing is fascinating.\"\n"
   ]
  },
  {
   "cell_type": "code",
   "execution_count": null,
   "id": "75b20a92",
   "metadata": {},
   "outputs": [
    {
     "data": {
      "text/plain": [
       "str"
      ]
     },
     "execution_count": 3,
     "metadata": {},
     "output_type": "execute_result"
    }
   ],
   "source": [
    "#2\n",
    "type_of_sentence = type(sentence)\n",
    "type_of_sentence"
   ]
  },
  {
   "cell_type": "code",
   "execution_count": 4,
   "id": "46570b1d",
   "metadata": {},
   "outputs": [
    {
     "name": "stdout",
     "output_type": "stream",
     "text": [
      "['Natural', 'Language', 'Processing', 'is', 'fascinating.']\n"
     ]
    }
   ],
   "source": [
    "#3\n",
    "tokens = sentence.split()\n",
    "print(tokens)"
   ]
  },
  {
   "cell_type": "code",
   "execution_count": 5,
   "id": "52a71f1b",
   "metadata": {},
   "outputs": [
    {
     "data": {
      "text/plain": [
       "'natural language processing is fascinating.'"
      ]
     },
     "execution_count": 5,
     "metadata": {},
     "output_type": "execute_result"
    }
   ],
   "source": [
    "#4\n",
    "lowered = sentence.lower()\n",
    "lowered"
   ]
  },
  {
   "cell_type": "code",
   "execution_count": 6,
   "id": "3adaf26b",
   "metadata": {},
   "outputs": [
    {
     "data": {
      "text/plain": [
       "'Natural Language Processing is powerful.'"
      ]
     },
     "execution_count": 6,
     "metadata": {},
     "output_type": "execute_result"
    }
   ],
   "source": [
    "#5\n",
    "replaced = sentence.replace(\"fascinating\",\"powerful\")\n",
    "replaced"
   ]
  },
  {
   "cell_type": "code",
   "execution_count": 10,
   "id": "3954af23",
   "metadata": {},
   "outputs": [
    {
     "data": {
      "text/plain": [
       "'Natural'"
      ]
     },
     "execution_count": 10,
     "metadata": {},
     "output_type": "execute_result"
    }
   ],
   "source": [
    "# 6. Slicing a string (first word only)\n",
    "first_word = sentence[:7]\n",
    "first_word"
   ]
  },
  {
   "cell_type": "code",
   "execution_count": 11,
   "id": "fd115ddc",
   "metadata": {},
   "outputs": [
    {
     "data": {
      "text/plain": [
       "False"
      ]
     },
     "execution_count": 11,
     "metadata": {},
     "output_type": "execute_result"
    }
   ],
   "source": [
    "#7\n",
    "has_nlp = \"processing\" in sentence\n",
    "has_nlp"
   ]
  },
  {
   "cell_type": "code",
   "execution_count": 12,
   "id": "0d2d34c8",
   "metadata": {},
   "outputs": [
    {
     "data": {
      "text/plain": [
       "43"
      ]
     },
     "execution_count": 12,
     "metadata": {},
     "output_type": "execute_result"
    }
   ],
   "source": [
    "#8\n",
    "char_count = len(sentence)\n",
    "char_count"
   ]
  },
  {
   "cell_type": "code",
   "execution_count": 15,
   "id": "b09f647f",
   "metadata": {},
   "outputs": [
    {
     "data": {
      "text/plain": [
       "'Natural Language Processing is fascinating. It helps computers understand text'"
      ]
     },
     "execution_count": 15,
     "metadata": {},
     "output_type": "execute_result"
    }
   ],
   "source": [
    "#9\n",
    "new_sentence = sentence + \" It helps computers understand text\"\n",
    "new_sentence"
   ]
  },
  {
   "cell_type": "code",
   "execution_count": 17,
   "id": "4169e000",
   "metadata": {},
   "outputs": [
    {
     "name": "stdout",
     "output_type": "stream",
     "text": [
      "we use Python for NLP\n"
     ]
    }
   ],
   "source": [
    "# 10. f-string formatting for dynamic insertion\n",
    "lang = \"Python\"\n",
    "formatted = f\"we use {lang} for NLP\"\n",
    "print(formatted)"
   ]
  },
  {
   "cell_type": "code",
   "execution_count": 23,
   "id": "766b7b6d",
   "metadata": {},
   "outputs": [
    {
     "data": {
      "text/plain": [
       "'Natural Language Processing is fascinating.'"
      ]
     },
     "execution_count": 23,
     "metadata": {},
     "output_type": "execute_result"
    }
   ],
   "source": [
    "# 11. Joining tokens back into string\n",
    "rejoined =\" \".join(tokens)\n",
    "rejoined"
   ]
  },
  {
   "cell_type": "code",
   "execution_count": 24,
   "id": "637df450",
   "metadata": {},
   "outputs": [
    {
     "data": {
      "text/plain": [
       "'Language'"
      ]
     },
     "execution_count": 24,
     "metadata": {},
     "output_type": "execute_result"
    }
   ],
   "source": [
    "# 12. Accessing specific token\n",
    "token_2 = tokens[1]\n",
    "token_2"
   ]
  },
  {
   "cell_type": "code",
   "execution_count": 27,
   "id": "f3dd6019",
   "metadata": {},
   "outputs": [
    {
     "data": {
      "text/plain": [
       "'Natural Language Processing is fascinating'"
      ]
     },
     "execution_count": 27,
     "metadata": {},
     "output_type": "execute_result"
    }
   ],
   "source": [
    "#13 \n",
    "import string \n",
    "cleaned = sentence.translate(str.maketrans('','',string.punctuation))\n",
    "cleaned"
   ]
  },
  {
   "cell_type": "code",
   "execution_count": 28,
   "id": "6b2ecd11",
   "metadata": {},
   "outputs": [
    {
     "data": {
      "text/plain": [
       "1"
      ]
     },
     "execution_count": 28,
     "metadata": {},
     "output_type": "execute_result"
    }
   ],
   "source": [
    "#14\n",
    "word_freq = sentence.lower().split().count(\"processing\")\n",
    "word_freq"
   ]
  },
  {
   "cell_type": "code",
   "execution_count": 30,
   "id": "573e75c8",
   "metadata": {},
   "outputs": [
    {
     "data": {
      "text/plain": [
       "True"
      ]
     },
     "execution_count": 30,
     "metadata": {},
     "output_type": "execute_result"
    }
   ],
   "source": [
    "is_string = isinstance(sentence,str)\n",
    "is_string"
   ]
  },
  {
   "cell_type": "code",
   "execution_count": null,
   "id": "82d44c67",
   "metadata": {},
   "outputs": [],
   "source": []
  }
 ],
 "metadata": {
  "kernelspec": {
   "display_name": "venv",
   "language": "python",
   "name": "python3"
  },
  "language_info": {
   "codemirror_mode": {
    "name": "ipython",
    "version": 3
   },
   "file_extension": ".py",
   "mimetype": "text/x-python",
   "name": "python",
   "nbconvert_exporter": "python",
   "pygments_lexer": "ipython3",
   "version": "3.12.0"
  }
 },
 "nbformat": 4,
 "nbformat_minor": 5
}
