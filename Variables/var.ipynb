{
 "cells": [
  {
   "cell_type": "code",
   "execution_count": 2,
   "id": "c6e5ee76",
   "metadata": {},
   "outputs": [
    {
     "name": "stdout",
     "output_type": "stream",
     "text": [
      "Natural language processing\n"
     ]
    }
   ],
   "source": [
    " #1. Assigning and printing variables\n",
    "\n",
    "text = \"Natural language processing\"\n",
    "print(text)\n"
   ]
  },
  {
   "cell_type": "code",
   "execution_count": 3,
   "id": "f9b26627",
   "metadata": {},
   "outputs": [
    {
     "name": "stdout",
     "output_type": "stream",
     "text": [
      "<class 'str'>\n"
     ]
    }
   ],
   "source": [
    "# 2. Type checking\n",
    "\n",
    "print(type(text))"
   ]
  },
  {
   "cell_type": "code",
   "execution_count": 4,
   "id": "93208b30",
   "metadata": {},
   "outputs": [
    {
     "name": "stdout",
     "output_type": "stream",
     "text": [
      "Natural language processing Python\n"
     ]
    }
   ],
   "source": [
    "#3 string concatination\n",
    "language = \"Python\"\n",
    "combined  = text +\" \"+ language\n",
    "print(combined)"
   ]
  },
  {
   "cell_type": "code",
   "execution_count": 5,
   "id": "57071419",
   "metadata": {},
   "outputs": [
    {
     "name": "stdout",
     "output_type": "stream",
     "text": [
      "Using Python 3 for Natural language processing\n"
     ]
    }
   ],
   "source": [
    "# 4 string formatting \n",
    "version = 3\n",
    "formatted  = f\"Using {language} {version} for {text}\"\n",
    "print(formatted)"
   ]
  },
  {
   "cell_type": "code",
   "execution_count": null,
   "id": "712882d5",
   "metadata": {},
   "outputs": [
    {
     "name": "stdout",
     "output_type": "stream",
     "text": [
      "N\n",
      "Natural\n"
     ]
    }
   ],
   "source": [
    "## 5 accessing char and slices \n",
    "\n",
    "print(text[0])\n",
    "print(text[:7])\n"
   ]
  },
  {
   "cell_type": "code",
   "execution_count": null,
   "id": "0a3f377b",
   "metadata": {},
   "outputs": [
    {
     "name": "stdout",
     "output_type": "stream",
     "text": [
      "True\n"
     ]
    }
   ],
   "source": [
    "## 6 checking substrings \n",
    "print(\"language\" in text)"
   ]
  },
  {
   "cell_type": "code",
   "execution_count": null,
   "id": "6ba2d8bc",
   "metadata": {},
   "outputs": [
    {
     "name": "stdout",
     "output_type": "stream",
     "text": [
      "natural language processing\n",
      "NATURAL LANGUAGE PROCESSING\n"
     ]
    }
   ],
   "source": [
    "## 7 change case \n",
    "print(text.lower())\n",
    "print(text.upper())"
   ]
  },
  {
   "cell_type": "code",
   "execution_count": null,
   "id": "8910c337",
   "metadata": {},
   "outputs": [
    {
     "name": "stdout",
     "output_type": "stream",
     "text": [
      "Natural language Understanding\n"
     ]
    }
   ],
   "source": [
    "# 8 replacing text \n",
    "\n",
    "text = print(text.replace(\"processing\",\"Understanding\"))\n"
   ]
  },
  {
   "cell_type": "code",
   "execution_count": 14,
   "id": "a68b28ca",
   "metadata": {},
   "outputs": [
    {
     "name": "stdout",
     "output_type": "stream",
     "text": [
      "['Natural', 'language', 'Understanding']\n",
      "Natural-language-Understanding\n"
     ]
    }
   ],
   "source": [
    "# 9. Splitting and joining\n",
    "text  = \"Natural language Understanding\"\n",
    "words = text.split()\n",
    "print(words)\n",
    "print(\"-\".join(words))\n"
   ]
  },
  {
   "cell_type": "code",
   "execution_count": null,
   "id": "ade06a5c",
   "metadata": {},
   "outputs": [
    {
     "name": "stdout",
     "output_type": "stream",
     "text": [
      "NLP is powerful\n"
     ]
    }
   ],
   "source": [
    "# 10 strip whitespace\n",
    "messy  = \"  NLP is powerful   \"\n",
    "\n",
    "print(messy.strip()) "
   ]
  },
  {
   "cell_type": "code",
   "execution_count": null,
   "id": "c7678664",
   "metadata": {},
   "outputs": [],
   "source": []
  }
 ],
 "metadata": {
  "kernelspec": {
   "display_name": "venv",
   "language": "python",
   "name": "python3"
  },
  "language_info": {
   "codemirror_mode": {
    "name": "ipython",
    "version": 3
   },
   "file_extension": ".py",
   "mimetype": "text/x-python",
   "name": "python",
   "nbconvert_exporter": "python",
   "pygments_lexer": "ipython3",
   "version": "3.12.0"
  }
 },
 "nbformat": 4,
 "nbformat_minor": 5
}
