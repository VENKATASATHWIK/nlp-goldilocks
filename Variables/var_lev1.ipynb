{
 "cells": [
  {
   "cell_type": "code",
   "execution_count": null,
   "id": "fb2064d2",
   "metadata": {},
   "outputs": [
    {
     "name": "stdout",
     "output_type": "stream",
     "text": [
      "Hi Sathvik U r learning NLP\n"
     ]
    }
   ],
   "source": [
    "#1\n",
    "sentence = \"Hi Sathvik U r learning NLP\"\n",
    "print(sentence)"
   ]
  },
  {
   "cell_type": "code",
   "execution_count": null,
   "id": "f080d42f",
   "metadata": {},
   "outputs": [
    {
     "name": "stdout",
     "output_type": "stream",
     "text": [
      "27\n"
     ]
    }
   ],
   "source": [
    "#2\n",
    "print(len(sentence))"
   ]
  },
  {
   "cell_type": "code",
   "execution_count": 4,
   "id": "b523a571",
   "metadata": {},
   "outputs": [
    {
     "name": "stdout",
     "output_type": "stream",
     "text": [
      "hi sathvik u r learning nlp\n"
     ]
    }
   ],
   "source": [
    "#3\n",
    "L = sentence.lower()\n",
    "print(L)"
   ]
  },
  {
   "cell_type": "code",
   "execution_count": 6,
   "id": "999bf1d8",
   "metadata": {},
   "outputs": [
    {
     "name": "stdout",
     "output_type": "stream",
     "text": [
      "NLP is ubiquitous\n"
     ]
    }
   ],
   "source": [
    "#4\n",
    "text = \"NLP is everywhere\"\n",
    "print(text.replace(\"everywhere\",\"ubiquitous\"))\n"
   ]
  },
  {
   "cell_type": "code",
   "execution_count": null,
   "id": "9fa48728",
   "metadata": {},
   "outputs": [],
   "source": []
  },
  {
   "cell_type": "code",
   "execution_count": 10,
   "id": "dc3ce21d",
   "metadata": {},
   "outputs": [
    {
     "name": "stdout",
     "output_type": "stream",
     "text": [
      "['Hi', 'Sathvik', 'U', 'r', 'learning', 'NLP']\n"
     ]
    }
   ],
   "source": [
    "#5\n",
    "list = sentence.split()\n",
    "print(list)"
   ]
  },
  {
   "cell_type": "code",
   "execution_count": 11,
   "id": "7ce23252",
   "metadata": {},
   "outputs": [
    {
     "name": "stdout",
     "output_type": "stream",
     "text": [
      "Hi\n"
     ]
    }
   ],
   "source": [
    "#6\n",
    "print(list[0])"
   ]
  },
  {
   "cell_type": "code",
   "execution_count": null,
   "id": "98bcc593",
   "metadata": {},
   "outputs": [
    {
     "name": "stdout",
     "output_type": "stream",
     "text": [
      "processed text is Hi Sathvik U r learning NLP\n"
     ]
    }
   ],
   "source": [
    "#7\n",
    "print(f'processed text is {sentence}')"
   ]
  },
  {
   "cell_type": "code",
   "execution_count": null,
   "id": "3374bb21",
   "metadata": {},
   "outputs": [
    {
     "name": "stdout",
     "output_type": "stream",
     "text": [
      "why u   r giving   so much   spaces\n"
     ]
    }
   ],
   "source": [
    "#8\n",
    "messy = \"   why u r giving so much spaces   \"\n",
    "print(messy.strip())"
   ]
  },
  {
   "cell_type": "code",
   "execution_count": 15,
   "id": "29363393",
   "metadata": {},
   "outputs": [
    {
     "name": "stdout",
     "output_type": "stream",
     "text": [
      "False\n"
     ]
    }
   ],
   "source": [
    "#9 \n",
    "print(\"data\" in sentence)"
   ]
  },
  {
   "cell_type": "code",
   "execution_count": 19,
   "id": "a2eed474",
   "metadata": {},
   "outputs": [
    {
     "name": "stdout",
     "output_type": "stream",
     "text": [
      " NLP\n"
     ]
    }
   ],
   "source": [
    "#10\n",
    "print(sentence.upper()[-4:])"
   ]
  },
  {
   "cell_type": "code",
   "execution_count": null,
   "id": "5dced55b",
   "metadata": {},
   "outputs": [
    {
     "name": "stdout",
     "output_type": "stream",
     "text": [
      "P\n"
     ]
    }
   ],
   "source": []
  },
  {
   "cell_type": "code",
   "execution_count": null,
   "id": "84ac550b",
   "metadata": {},
   "outputs": [],
   "source": []
  }
 ],
 "metadata": {
  "kernelspec": {
   "display_name": "venv",
   "language": "python",
   "name": "python3"
  },
  "language_info": {
   "codemirror_mode": {
    "name": "ipython",
    "version": 3
   },
   "file_extension": ".py",
   "mimetype": "text/x-python",
   "name": "python",
   "nbconvert_exporter": "python",
   "pygments_lexer": "ipython3",
   "version": "3.12.0"
  }
 },
 "nbformat": 4,
 "nbformat_minor": 5
}
