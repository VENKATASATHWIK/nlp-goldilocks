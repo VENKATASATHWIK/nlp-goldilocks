{
 "cells": [
  {
   "cell_type": "code",
   "execution_count": 3,
   "id": "bd28ad1f",
   "metadata": {},
   "outputs": [
    {
     "name": "stdout",
     "output_type": "stream",
     "text": [
      "NLP with Python is incredibly powerful and widely used\n"
     ]
    }
   ],
   "source": [
    "sentence = \"NLP with Python is incredibly powerful and widely used\"\n",
    "print(sentence)"
   ]
  },
  {
   "cell_type": "code",
   "execution_count": 8,
   "id": "e4b00b6b",
   "metadata": {},
   "outputs": [
    {
     "name": "stdout",
     "output_type": "stream",
     "text": [
      "9\n"
     ]
    }
   ],
   "source": [
    "#1\n",
    "L = sentence.split()\n",
    "print(len(sentence.split()))\n"
   ]
  },
  {
   "cell_type": "code",
   "execution_count": null,
   "id": "daedc9d3",
   "metadata": {},
   "outputs": [
    {
     "name": "stdout",
     "output_type": "stream",
     "text": [
      "NLP\n",
      "used\n"
     ]
    }
   ],
   "source": [
    "#2\n",
    "print(L[0])\n",
    "print(L[-1])"
   ]
  },
  {
   "cell_type": "code",
   "execution_count": 13,
   "id": "a395b1cc",
   "metadata": {},
   "outputs": [
    {
     "name": "stdout",
     "output_type": "stream",
     "text": [
      "Nlp With Python Is Incredibly Powerful And Widely Used\n"
     ]
    }
   ],
   "source": [
    "#3\n",
    "print(sentence.title())"
   ]
  },
  {
   "cell_type": "code",
   "execution_count": 15,
   "id": "f0493b89",
   "metadata": {},
   "outputs": [
    {
     "name": "stdout",
     "output_type": "stream",
     "text": [
      "desu ylediw dna lufrewop ylbidercni si nohtyP htiw PLN\n"
     ]
    }
   ],
   "source": [
    "# Task 4: Reverse the entire sentence using slicing.\n",
    "print(sentence[::-1])"
   ]
  },
  {
   "cell_type": "code",
   "execution_count": 19,
   "id": "043f75e4",
   "metadata": {},
   "outputs": [
    {
     "name": "stdout",
     "output_type": "stream",
     "text": [
      "1\n"
     ]
    }
   ],
   "source": [
    "#5\n",
    "print(sentence.count(\"NLP\"))"
   ]
  },
  {
   "cell_type": "code",
   "execution_count": 20,
   "id": "7b2ba12f",
   "metadata": {},
   "outputs": [
    {
     "name": "stdout",
     "output_type": "stream",
     "text": [
      "NLP_with_Python_is_incredibly_powerful_and_widely_used\n"
     ]
    }
   ],
   "source": [
    "#6\n",
    "print(sentence.replace(\" \",\"_\"))"
   ]
  },
  {
   "cell_type": "code",
   "execution_count": null,
   "id": "10892447",
   "metadata": {},
   "outputs": [
    {
     "name": "stdout",
     "output_type": "stream",
     "text": [
      "NLP with is incredibly powerful and widely used\n"
     ]
    }
   ],
   "source": [
    "#7\n",
    "words = sentence.split()\n",
    "words\n",
    "words.remove(\"Python\")\n",
    "print(\" \".join(words))"
   ]
  },
  {
   "cell_type": "code",
   "execution_count": 25,
   "id": "cf4e641f",
   "metadata": {},
   "outputs": [
    {
     "name": "stdout",
     "output_type": "stream",
     "text": [
      "True\n"
     ]
    }
   ],
   "source": [
    "# Task 8: Check if the sentence ends with the word \"used\" (case-insensitive).\n",
    "lower = sentence.lower()\n",
    "result = lower.endswith(\"used\")\n",
    "print(result)\n"
   ]
  },
  {
   "cell_type": "code",
   "execution_count": 26,
   "id": "6e0f4147",
   "metadata": {},
   "outputs": [
    {
     "name": "stdout",
     "output_type": "stream",
     "text": [
      "N|L|P| |w|i|t|h| |P|y|t|h|o|n| |i|s| |i|n|c|r|e|d|i|b|l|y| |p|o|w|e|r|f|u|l| |a|n|d| |w|i|d|e|l|y| |u|s|e|d\n"
     ]
    }
   ],
   "source": [
    "# Task 9: Join the characters in the sentence with a pipe (`|`) symbol.\n",
    "sentence = \"NLP with Python is incredibly powerful and widely used\"\n",
    "result_1 = \"|\".join(sentence)\n",
    "print(result_1)"
   ]
  },
  {
   "cell_type": "code",
   "execution_count": 31,
   "id": "3d778a7d",
   "metadata": {},
   "outputs": [
    {
     "name": "stdout",
     "output_type": "stream",
     "text": [
      "NLP WITH PYTHON IS INCREDIB ly powerful and widely used\n"
     ]
    }
   ],
   "source": [
    "#10\n",
    "middle = len(sentence)//2\n",
    "upper_half = sentence[:middle].upper()\n",
    "\n",
    "lower_half = sentence[middle:].lower()\n",
    "new = upper_half +\" \" + lower_half\n",
    "print(new)"
   ]
  },
  {
   "cell_type": "code",
   "execution_count": null,
   "id": "7867dc3e",
   "metadata": {},
   "outputs": [],
   "source": []
  }
 ],
 "metadata": {
  "kernelspec": {
   "display_name": "venv",
   "language": "python",
   "name": "python3"
  },
  "language_info": {
   "codemirror_mode": {
    "name": "ipython",
    "version": 3
   },
   "file_extension": ".py",
   "mimetype": "text/x-python",
   "name": "python",
   "nbconvert_exporter": "python",
   "pygments_lexer": "ipython3",
   "version": "3.12.0"
  }
 },
 "nbformat": 4,
 "nbformat_minor": 5
}
